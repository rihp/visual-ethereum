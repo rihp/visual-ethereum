{
 "cells": [
  {
   "cell_type": "markdown",
   "metadata": {},
   "source": [
    "# What's up eth ?"
   ]
  },
  {
   "cell_type": "markdown",
   "metadata": {},
   "source": [
    "In this mini-hackathon project we have used Google's BigQuery to obtain the 16.000 Ethereum wallets with the highest balances, as of June 4th, 2020.\n",
    "\n",
    "The idea is to do a brief exploration of the data using the common python libraries like pandas and seaborn to visualize the data, and propose a basic dashboard concept."
   ]
  },
  {
   "cell_type": "code",
   "execution_count": 50,
   "metadata": {},
   "outputs": [],
   "source": [
    "### Importing libraries\n",
    "from web3 import Web3\n",
    "import matplotlib.pyplot as plt\n",
    "import pandas as pd\n",
    "import numpy as np\n",
    "import seaborn as sns\n"
   ]
  },
  {
   "cell_type": "code",
   "execution_count": 18,
   "metadata": {},
   "outputs": [],
   "source": [
    "df = pd.read_csv('data/top-eth-wallets-20200604-212329.csv')"
   ]
  },
  {
   "cell_type": "code",
   "execution_count": 19,
   "metadata": {
    "scrolled": false
   },
   "outputs": [
    {
     "data": {
      "text/html": [
       "<div>\n",
       "<style scoped>\n",
       "    .dataframe tbody tr th:only-of-type {\n",
       "        vertical-align: middle;\n",
       "    }\n",
       "\n",
       "    .dataframe tbody tr th {\n",
       "        vertical-align: top;\n",
       "    }\n",
       "\n",
       "    .dataframe thead th {\n",
       "        text-align: right;\n",
       "    }\n",
       "</style>\n",
       "<table border=\"1\" class=\"dataframe\">\n",
       "  <thead>\n",
       "    <tr style=\"text-align: right;\">\n",
       "      <th></th>\n",
       "      <th>address</th>\n",
       "      <th>eth_balance</th>\n",
       "    </tr>\n",
       "  </thead>\n",
       "  <tbody>\n",
       "    <tr>\n",
       "      <th>0</th>\n",
       "      <td>0x742d35cc6634c0532925a3b844bc454e4438f44e</td>\n",
       "      <td>3836061615941836500000001</td>\n",
       "    </tr>\n",
       "    <tr>\n",
       "      <th>1</th>\n",
       "      <td>0xdc76cd25977e0a5ae17155770273ad58648900d3</td>\n",
       "      <td>3125760535463887010445000</td>\n",
       "    </tr>\n",
       "    <tr>\n",
       "      <th>2</th>\n",
       "      <td>0xbe0eb53f46cd790cd13851d5eff43d12404d33e8</td>\n",
       "      <td>2507764425435465820651570</td>\n",
       "    </tr>\n",
       "    <tr>\n",
       "      <th>3</th>\n",
       "      <td>0xc02aaa39b223fe8d0a0e5c4f27ead9083c756cc2</td>\n",
       "      <td>2381646713533211711872996</td>\n",
       "    </tr>\n",
       "    <tr>\n",
       "      <th>4</th>\n",
       "      <td>0x53d284357ec70ce289d6d64134dfac8e511c8a3d</td>\n",
       "      <td>1378754144654898911481302</td>\n",
       "    </tr>\n",
       "    <tr>\n",
       "      <th>...</th>\n",
       "      <td>...</td>\n",
       "      <td>...</td>\n",
       "    </tr>\n",
       "    <tr>\n",
       "      <th>15995</th>\n",
       "      <td>0x28c87a829b878bb3d514fd0e89ef9eec1157e4af</td>\n",
       "      <td>401104338000000000000</td>\n",
       "    </tr>\n",
       "    <tr>\n",
       "      <th>15996</th>\n",
       "      <td>0xf37b426547a1642d8033324814f0ede3114fc212</td>\n",
       "      <td>401100000000000000000</td>\n",
       "    </tr>\n",
       "    <tr>\n",
       "      <th>15997</th>\n",
       "      <td>0xf052a089a9201a8e891a094f3ac7a916d0692c39</td>\n",
       "      <td>401088811000000000000</td>\n",
       "    </tr>\n",
       "    <tr>\n",
       "      <th>15998</th>\n",
       "      <td>0xdb259476c3eb906b10cbaada30539181efa75901</td>\n",
       "      <td>401043968196000000000</td>\n",
       "    </tr>\n",
       "    <tr>\n",
       "      <th>15999</th>\n",
       "      <td>0x473869d211a9364b13806b97882f741acc444295</td>\n",
       "      <td>401037450995000000000</td>\n",
       "    </tr>\n",
       "  </tbody>\n",
       "</table>\n",
       "<p>16000 rows × 2 columns</p>\n",
       "</div>"
      ],
      "text/plain": [
       "                                          address                eth_balance\n",
       "0      0x742d35cc6634c0532925a3b844bc454e4438f44e  3836061615941836500000001\n",
       "1      0xdc76cd25977e0a5ae17155770273ad58648900d3  3125760535463887010445000\n",
       "2      0xbe0eb53f46cd790cd13851d5eff43d12404d33e8  2507764425435465820651570\n",
       "3      0xc02aaa39b223fe8d0a0e5c4f27ead9083c756cc2  2381646713533211711872996\n",
       "4      0x53d284357ec70ce289d6d64134dfac8e511c8a3d  1378754144654898911481302\n",
       "...                                           ...                        ...\n",
       "15995  0x28c87a829b878bb3d514fd0e89ef9eec1157e4af      401104338000000000000\n",
       "15996  0xf37b426547a1642d8033324814f0ede3114fc212      401100000000000000000\n",
       "15997  0xf052a089a9201a8e891a094f3ac7a916d0692c39      401088811000000000000\n",
       "15998  0xdb259476c3eb906b10cbaada30539181efa75901      401043968196000000000\n",
       "15999  0x473869d211a9364b13806b97882f741acc444295      401037450995000000000\n",
       "\n",
       "[16000 rows x 2 columns]"
      ]
     },
     "execution_count": 19,
     "metadata": {},
     "output_type": "execute_result"
    }
   ],
   "source": [
    "df"
   ]
  },
  {
   "cell_type": "code",
   "execution_count": 20,
   "metadata": {
    "scrolled": true
   },
   "outputs": [
    {
     "data": {
      "text/html": [
       "<div>\n",
       "<style scoped>\n",
       "    .dataframe tbody tr th:only-of-type {\n",
       "        vertical-align: middle;\n",
       "    }\n",
       "\n",
       "    .dataframe tbody tr th {\n",
       "        vertical-align: top;\n",
       "    }\n",
       "\n",
       "    .dataframe thead th {\n",
       "        text-align: right;\n",
       "    }\n",
       "</style>\n",
       "<table border=\"1\" class=\"dataframe\">\n",
       "  <thead>\n",
       "    <tr style=\"text-align: right;\">\n",
       "      <th></th>\n",
       "      <th>address</th>\n",
       "      <th>eth_balance</th>\n",
       "    </tr>\n",
       "  </thead>\n",
       "  <tbody>\n",
       "    <tr>\n",
       "      <th>count</th>\n",
       "      <td>16000</td>\n",
       "      <td>16000</td>\n",
       "    </tr>\n",
       "    <tr>\n",
       "      <th>unique</th>\n",
       "      <td>16000</td>\n",
       "      <td>14219</td>\n",
       "    </tr>\n",
       "    <tr>\n",
       "      <th>top</th>\n",
       "      <td>0x2276aa4b5248b9dba68dd99982854df7e3625838</td>\n",
       "      <td>1000000000000000000000</td>\n",
       "    </tr>\n",
       "    <tr>\n",
       "      <th>freq</th>\n",
       "      <td>1</td>\n",
       "      <td>237</td>\n",
       "    </tr>\n",
       "  </tbody>\n",
       "</table>\n",
       "</div>"
      ],
      "text/plain": [
       "                                           address             eth_balance\n",
       "count                                        16000                   16000\n",
       "unique                                       16000                   14219\n",
       "top     0x2276aa4b5248b9dba68dd99982854df7e3625838  1000000000000000000000\n",
       "freq                                             1                     237"
      ]
     },
     "execution_count": 20,
     "metadata": {},
     "output_type": "execute_result"
    }
   ],
   "source": [
    "df.describe()"
   ]
  },
  {
   "cell_type": "markdown",
   "metadata": {},
   "source": [
    "# 💡  New knowledge:\n",
    "eth_balance is measured in `wei`, which is the ethereum's minimum measurement unit.\n",
    "Trying to use the `wei` values will cause a `64-bit overflow error`, as seen with the first row of the dataframe\n",
    "`3836061615941836500000001`\n"
   ]
  },
  {
   "cell_type": "code",
   "execution_count": 21,
   "metadata": {},
   "outputs": [
    {
     "name": "stdout",
     "output_type": "stream",
     "text": [
      "The wallet with the lowest balance has 401037450995000000000 wei\n",
      "The balances in the obtained dataset are strings, type(lb)=<class 'str'>\n"
     ]
    }
   ],
   "source": [
    "lowest_wallet = df.iloc[-1]\n",
    "#lowest balance\n",
    "lb = lowest_wallet.eth_balance\n",
    "print(f\"The wallet with the lowest balance has {lb} wei\")\n",
    "print(f\"The balances in the obtained dataset are strings, {type(lb)=}\")"
   ]
  },
  {
   "cell_type": "markdown",
   "metadata": {},
   "source": [
    "## Turning `wei` strings into `ether` ints"
   ]
  },
  {
   "cell_type": "code",
   "execution_count": 22,
   "metadata": {},
   "outputs": [],
   "source": [
    "def wei_str_to_wei_int(wei_str):\n",
    "    wei_int = int(wei_str)\n",
    "    return wei_int"
   ]
  },
  {
   "cell_type": "code",
   "execution_count": 23,
   "metadata": {},
   "outputs": [
    {
     "data": {
      "text/html": [
       "<div>\n",
       "<style scoped>\n",
       "    .dataframe tbody tr th:only-of-type {\n",
       "        vertical-align: middle;\n",
       "    }\n",
       "\n",
       "    .dataframe tbody tr th {\n",
       "        vertical-align: top;\n",
       "    }\n",
       "\n",
       "    .dataframe thead th {\n",
       "        text-align: right;\n",
       "    }\n",
       "</style>\n",
       "<table border=\"1\" class=\"dataframe\">\n",
       "  <thead>\n",
       "    <tr style=\"text-align: right;\">\n",
       "      <th></th>\n",
       "      <th>address</th>\n",
       "      <th>eth_balance</th>\n",
       "      <th>wei_int</th>\n",
       "    </tr>\n",
       "  </thead>\n",
       "  <tbody>\n",
       "    <tr>\n",
       "      <th>0</th>\n",
       "      <td>0x742d35cc6634c0532925a3b844bc454e4438f44e</td>\n",
       "      <td>3836061615941836500000001</td>\n",
       "      <td>3836061615941836500000001</td>\n",
       "    </tr>\n",
       "    <tr>\n",
       "      <th>1</th>\n",
       "      <td>0xdc76cd25977e0a5ae17155770273ad58648900d3</td>\n",
       "      <td>3125760535463887010445000</td>\n",
       "      <td>3125760535463887010445000</td>\n",
       "    </tr>\n",
       "    <tr>\n",
       "      <th>2</th>\n",
       "      <td>0xbe0eb53f46cd790cd13851d5eff43d12404d33e8</td>\n",
       "      <td>2507764425435465820651570</td>\n",
       "      <td>2507764425435465820651570</td>\n",
       "    </tr>\n",
       "    <tr>\n",
       "      <th>3</th>\n",
       "      <td>0xc02aaa39b223fe8d0a0e5c4f27ead9083c756cc2</td>\n",
       "      <td>2381646713533211711872996</td>\n",
       "      <td>2381646713533211711872996</td>\n",
       "    </tr>\n",
       "    <tr>\n",
       "      <th>4</th>\n",
       "      <td>0x53d284357ec70ce289d6d64134dfac8e511c8a3d</td>\n",
       "      <td>1378754144654898911481302</td>\n",
       "      <td>1378754144654898911481302</td>\n",
       "    </tr>\n",
       "  </tbody>\n",
       "</table>\n",
       "</div>"
      ],
      "text/plain": [
       "                                      address                eth_balance  \\\n",
       "0  0x742d35cc6634c0532925a3b844bc454e4438f44e  3836061615941836500000001   \n",
       "1  0xdc76cd25977e0a5ae17155770273ad58648900d3  3125760535463887010445000   \n",
       "2  0xbe0eb53f46cd790cd13851d5eff43d12404d33e8  2507764425435465820651570   \n",
       "3  0xc02aaa39b223fe8d0a0e5c4f27ead9083c756cc2  2381646713533211711872996   \n",
       "4  0x53d284357ec70ce289d6d64134dfac8e511c8a3d  1378754144654898911481302   \n",
       "\n",
       "                     wei_int  \n",
       "0  3836061615941836500000001  \n",
       "1  3125760535463887010445000  \n",
       "2  2507764425435465820651570  \n",
       "3  2381646713533211711872996  \n",
       "4  1378754144654898911481302  "
      ]
     },
     "execution_count": 23,
     "metadata": {},
     "output_type": "execute_result"
    }
   ],
   "source": [
    "df[\"wei_int\"] = df.eth_balance.apply(wei_str_to_wei_int)\n",
    "df.head()"
   ]
  },
  {
   "cell_type": "code",
   "execution_count": 24,
   "metadata": {
    "scrolled": true
   },
   "outputs": [
    {
     "data": {
      "text/plain": [
       "count                      16000\n",
       "unique                     14219\n",
       "top       1000000000000000000000\n",
       "freq                         237\n",
       "Name: wei_int, dtype: object"
      ]
     },
     "execution_count": 24,
     "metadata": {},
     "output_type": "execute_result"
    }
   ],
   "source": [
    "df.wei_int.describe()"
   ]
  },
  {
   "cell_type": "markdown",
   "metadata": {},
   "source": [
    "### Now that we have a colum with `int` values, we can now turn that to `ether`"
   ]
  },
  {
   "cell_type": "code",
   "execution_count": 32,
   "metadata": {},
   "outputs": [
    {
     "name": "stdout",
     "output_type": "stream",
     "text": [
      "max_ether_balance=Decimal('3836061.615941836500000001')\n",
      "type(max_ether_balance)=<class 'decimal.Decimal'>\n"
     ]
    }
   ],
   "source": [
    "# Can we calculate how much ether is there in the top ethereum wallet?\n",
    "highest_wallet_balance = df.wei_int.iloc[0]\n",
    "max_ether_balance = Web3.fromWei(highest_wallet_balance, 'ether')\n",
    "print(f\"{max_ether_balance=}\")\n",
    "print(f\"{type(max_ether_balance)=}\")"
   ]
  },
  {
   "cell_type": "markdown",
   "metadata": {},
   "source": [
    "# Creating an ether column"
   ]
  },
  {
   "cell_type": "code",
   "execution_count": 39,
   "metadata": {},
   "outputs": [],
   "source": [
    "wei_int_to_eth_dec = lambda wei_int : Web3.fromWei(wei_int, 'ether')\n",
    "df['ether'] = df.wei_int.apply(wei_int_to_eth_dec)"
   ]
  },
  {
   "cell_type": "markdown",
   "metadata": {},
   "source": [
    "### Plotting the column"
   ]
  },
  {
   "cell_type": "code",
   "execution_count": 60,
   "metadata": {},
   "outputs": [
    {
     "data": {
      "text/plain": [
       "0        3836061.615941836500000001\n",
       "1           3125760.535463887010445\n",
       "2         2507764.42543546582065157\n",
       "3        2381646.713533211711872996\n",
       "4        1378754.144654898911481302\n",
       "                    ...            \n",
       "15995                    401.104338\n",
       "15996                         401.1\n",
       "15997                    401.088811\n",
       "15998                 401.043968196\n",
       "15999                 401.037450995\n",
       "Name: ether, Length: 16000, dtype: object"
      ]
     },
     "execution_count": 60,
     "metadata": {},
     "output_type": "execute_result"
    }
   ],
   "source": [
    "df.ether"
   ]
  },
  {
   "cell_type": "code",
   "execution_count": 87,
   "metadata": {},
   "outputs": [
    {
     "data": {
      "text/plain": [
       "<matplotlib.axes._subplots.AxesSubplot at 0x7fde6a49e670>"
      ]
     },
     "execution_count": 87,
     "metadata": {},
     "output_type": "execute_result"
    },
    {
     "data": {
      "image/png": "[encoded data removed]",
      "text/plain": [
       "<Figure size 1080x216 with 1 Axes>"
      ]
     },
     "metadata": {
      "needs_background": "light"
     },
     "output_type": "display_data"
    }
   ],
   "source": [
    "bins=50\n",
    "f,a = plt.subplots(figsize=(15,3))\n",
    "a.set_title(f'Distribution plot of the Top 16.000 Ethereum wallets ({bins=})')\n",
    "a.set_ylabel('Relative percentage')\n",
    "a.set_xlabel('Amount of ether in the wallet')\n",
    "sns.distplot(df.ether, ax=a, bins=bins)"
   ]
  },
  {
   "cell_type": "markdown",
   "metadata": {},
   "source": [
    "# 💡 This first plot is not very helpful, because there is a huge difference between the top wallet and the wallets with the lowest balances\n",
    "\n",
    "To have a better insight on the data, we will try reducing the number of bins in the distribution plot, and ploting a taller graph."
   ]
  },
  {
   "cell_type": "code",
   "execution_count": 95,
   "metadata": {},
   "outputs": [
    {
     "data": {
      "text/plain": [
       "<matplotlib.axes._subplots.AxesSubplot at 0x7fde69238400>"
      ]
     },
     "execution_count": 95,
     "metadata": {},
     "output_type": "execute_result"
    },
    {
     "data": {
      "image/png": "[encoded data removed]",
      "text/plain": [
       "<Figure size 1080x576 with 1 Axes>"
      ]
     },
     "metadata": {
      "needs_background": "light"
     },
     "output_type": "display_data"
    }
   ],
   "source": [
    "bins = 10\n",
    "f,a = plt.subplots(figsize=(15,8))\n",
    "a.set_title(f'Distribution plot of the Top 16.000 Ethereum wallets ({bins=})')\n",
    "a.set_ylabel('Relative percentage')\n",
    "a.set_xlabel('Amount of ether in the wallet')\n",
    "sns.distplot(df.ether, ax=a, bins=bins)"
   ]
  },
  {
   "cell_type": "markdown",
   "metadata": {},
   "source": [
    "## That's not helping much is it? \n",
    "The distribution is very skewed to the left. And our graph cannot represent the data in a way the human eye can interpret it.\n",
    "\n",
    "\n",
    "**What if we take the lowest `15000` wallets and plot fewer bins,will we see a distribution that is easier to interpret?**"
   ]
  },
  {
   "cell_type": "code",
   "execution_count": 97,
   "metadata": {},
   "outputs": [
    {
     "data": {
      "text/plain": [
       "<matplotlib.axes._subplots.AxesSubplot at 0x7fde691881f0>"
      ]
     },
     "execution_count": 97,
     "metadata": {},
     "output_type": "execute_result"
    },
    {
     "data": {
      "image/png": "[encoded data removed]",
      "text/plain": [
       "<Figure size 1080x576 with 1 Axes>"
      ]
     },
     "metadata": {
      "needs_background": "light"
     },
     "output_type": "display_data"
    }
   ],
   "source": [
    "bins = 50\n",
    "f,a = plt.subplots(figsize=(15,8))\n",
    "a.set_title(f'Ethereum wallets (from top Nº 16000 to top Nº 1000) ({bins=})')\n",
    "a.set_ylabel('Relative percentage')\n",
    "a.set_xlabel('Amount of ether in the wallet')\n",
    "sns.distplot(df.ether.iloc[-15000:], ax=a, bins=bins)"
   ]
  },
  {
   "cell_type": "markdown",
   "metadata": {},
   "source": [
    "# Now that is looking better :)\n",
    "This is something we can work with a little bit more.\n",
    "\n",
    "## 💡 New knowlegde acquired: \n",
    "When considering the top `16000` ethereum balances, the top `1000` wallets in hold so much `ether` when compared to the other `15000`. Although this is somewhat expected, because wealth is not equally distributed, the gap is still quite interesting to see graphically!"
   ]
  },
  {
   "cell_type": "code",
   "execution_count": null,
   "metadata": {},
   "outputs": [],
   "source": []
  },
  {
   "cell_type": "code",
   "execution_count": null,
   "metadata": {},
   "outputs": [],
   "source": []
  },
  {
   "cell_type": "code",
   "execution_count": null,
   "metadata": {},
   "outputs": [],
   "source": []
  },
  {
   "cell_type": "code",
   "execution_count": null,
   "metadata": {},
   "outputs": [],
   "source": []
  }
 ],
 "metadata": {
  "kernelspec": {
   "display_name": "Python 3",
   "language": "python",
   "name": "python3"
  },
  "language_info": {
   "codemirror_mode": {
    "name": "ipython",
    "version": 3
   },
   "file_extension": ".py",
   "mimetype": "text/x-python",
   "name": "python",
   "nbconvert_exporter": "python",
   "pygments_lexer": "ipython3",
   "version": "3.8.3"
  }
 },
 "nbformat": 4,
 "nbformat_minor": 4
}
