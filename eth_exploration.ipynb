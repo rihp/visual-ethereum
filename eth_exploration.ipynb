{
 "cells": [
  {
   "cell_type": "markdown",
   "metadata": {},
   "source": [
    "# What's up eth ?\n",
    "\n",
    "![ethereum gif](https://thumbs.gfycat.com/HandyFaithfulAlaskanhusky-max-1mb.gif)"
   ]
  },
  {
   "cell_type": "markdown",
   "metadata": {},
   "source": [
    "## This is a mini-hackathon project to for the [dOrg](https://dorg.tech), a full-stack freelancer agency building and running on web3.\n",
    "\n",
    "   ```The following excercise can be done with more wallets, however, as a start, by using BigQuery we have downloaded a CSV with only 16,000 rows, each row representing one wallet/address```\n",
    "\n",
    "#### To begin, we have used Google's BigQuery to obtain the 16.000 Ethereum wallets with the highest balances on them as of June 4th, 2020. \n",
    "\n",
    "![biq query results](INPUT/BigQuery_02.png)\n",
    "\n",
    "#### The idea is to do a brief exploration of the data using the common python libraries like `pandas` and `seaborn` to visualize the data, and propose a basic dashboard concept.\n",
    "\n",
    "#### I've tried to keep simple insights describing new acquired knowledge with the :bulb: (💡) emoji"
   ]
  },
  {
   "cell_type": "code",
   "execution_count": 1,
   "metadata": {},
   "outputs": [
    {
     "name": "stderr",
     "output_type": "stream",
     "text": [
      "/home/rh/.local/lib/python3.8/site-packages/pandas/compat/__init__.py:117: UserWarning: Could not import the lzma module. Your installed Python is incomplete. Attempting to use lzma compression will result in a RuntimeError.\n",
      "  warnings.warn(msg)\n"
     ]
    }
   ],
   "source": [
    "### Importing libraries\n",
    "from web3 import Web3\n",
    "import datetime, calendar\n",
    "from decimal import Decimal\n",
    "import matplotlib.pyplot as plt\n",
    "import pandas as pd\n",
    "import numpy as np\n",
    "import seaborn as sns"
   ]
  },
  {
   "cell_type": "markdown",
   "metadata": {},
   "source": [
    "# 💡  New knowledge:\n",
    "The library `web3` helps us deal with  data related to ethereum ~ ♠\n"
   ]
  },
  {
   "cell_type": "code",
   "execution_count": 2,
   "metadata": {},
   "outputs": [
    {
     "data": {
      "text/html": [
       "<div>\n",
       "<style scoped>\n",
       "    .dataframe tbody tr th:only-of-type {\n",
       "        vertical-align: middle;\n",
       "    }\n",
       "\n",
       "    .dataframe tbody tr th {\n",
       "        vertical-align: top;\n",
       "    }\n",
       "\n",
       "    .dataframe thead th {\n",
       "        text-align: right;\n",
       "    }\n",
       "</style>\n",
       "<table border=\"1\" class=\"dataframe\">\n",
       "  <thead>\n",
       "    <tr style=\"text-align: right;\">\n",
       "      <th></th>\n",
       "      <th>address</th>\n",
       "      <th>eth_balance</th>\n",
       "    </tr>\n",
       "  </thead>\n",
       "  <tbody>\n",
       "    <tr>\n",
       "      <th>0</th>\n",
       "      <td>0x742d35cc6634c0532925a3b844bc454e4438f44e</td>\n",
       "      <td>3836061615941836500000001</td>\n",
       "    </tr>\n",
       "    <tr>\n",
       "      <th>1</th>\n",
       "      <td>0xdc76cd25977e0a5ae17155770273ad58648900d3</td>\n",
       "      <td>3125760535463887010445000</td>\n",
       "    </tr>\n",
       "    <tr>\n",
       "      <th>2</th>\n",
       "      <td>0xbe0eb53f46cd790cd13851d5eff43d12404d33e8</td>\n",
       "      <td>2507764425435465820651570</td>\n",
       "    </tr>\n",
       "    <tr>\n",
       "      <th>3</th>\n",
       "      <td>0xc02aaa39b223fe8d0a0e5c4f27ead9083c756cc2</td>\n",
       "      <td>2381646713533211711872996</td>\n",
       "    </tr>\n",
       "    <tr>\n",
       "      <th>4</th>\n",
       "      <td>0x53d284357ec70ce289d6d64134dfac8e511c8a3d</td>\n",
       "      <td>1378754144654898911481302</td>\n",
       "    </tr>\n",
       "    <tr>\n",
       "      <th>...</th>\n",
       "      <td>...</td>\n",
       "      <td>...</td>\n",
       "    </tr>\n",
       "    <tr>\n",
       "      <th>15995</th>\n",
       "      <td>0x28c87a829b878bb3d514fd0e89ef9eec1157e4af</td>\n",
       "      <td>401104338000000000000</td>\n",
       "    </tr>\n",
       "    <tr>\n",
       "      <th>15996</th>\n",
       "      <td>0xf37b426547a1642d8033324814f0ede3114fc212</td>\n",
       "      <td>401100000000000000000</td>\n",
       "    </tr>\n",
       "    <tr>\n",
       "      <th>15997</th>\n",
       "      <td>0xf052a089a9201a8e891a094f3ac7a916d0692c39</td>\n",
       "      <td>401088811000000000000</td>\n",
       "    </tr>\n",
       "    <tr>\n",
       "      <th>15998</th>\n",
       "      <td>0xdb259476c3eb906b10cbaada30539181efa75901</td>\n",
       "      <td>401043968196000000000</td>\n",
       "    </tr>\n",
       "    <tr>\n",
       "      <th>15999</th>\n",
       "      <td>0x473869d211a9364b13806b97882f741acc444295</td>\n",
       "      <td>401037450995000000000</td>\n",
       "    </tr>\n",
       "  </tbody>\n",
       "</table>\n",
       "<p>16000 rows × 2 columns</p>\n",
       "</div>"
      ],
      "text/plain": [
       "                                          address                eth_balance\n",
       "0      0x742d35cc6634c0532925a3b844bc454e4438f44e  3836061615941836500000001\n",
       "1      0xdc76cd25977e0a5ae17155770273ad58648900d3  3125760535463887010445000\n",
       "2      0xbe0eb53f46cd790cd13851d5eff43d12404d33e8  2507764425435465820651570\n",
       "3      0xc02aaa39b223fe8d0a0e5c4f27ead9083c756cc2  2381646713533211711872996\n",
       "4      0x53d284357ec70ce289d6d64134dfac8e511c8a3d  1378754144654898911481302\n",
       "...                                           ...                        ...\n",
       "15995  0x28c87a829b878bb3d514fd0e89ef9eec1157e4af      401104338000000000000\n",
       "15996  0xf37b426547a1642d8033324814f0ede3114fc212      401100000000000000000\n",
       "15997  0xf052a089a9201a8e891a094f3ac7a916d0692c39      401088811000000000000\n",
       "15998  0xdb259476c3eb906b10cbaada30539181efa75901      401043968196000000000\n",
       "15999  0x473869d211a9364b13806b97882f741acc444295      401037450995000000000\n",
       "\n",
       "[16000 rows x 2 columns]"
      ]
     },
     "execution_count": 2,
     "metadata": {},
     "output_type": "execute_result"
    }
   ],
   "source": [
    "df = pd.read_csv('data/top-eth-wallets-20200604-212329.csv')\n",
    "df"
   ]
  },
  {
   "cell_type": "code",
   "execution_count": 3,
   "metadata": {
    "scrolled": true
   },
   "outputs": [
    {
     "data": {
      "text/html": [
       "<div>\n",
       "<style scoped>\n",
       "    .dataframe tbody tr th:only-of-type {\n",
       "        vertical-align: middle;\n",
       "    }\n",
       "\n",
       "    .dataframe tbody tr th {\n",
       "        vertical-align: top;\n",
       "    }\n",
       "\n",
       "    .dataframe thead th {\n",
       "        text-align: right;\n",
       "    }\n",
       "</style>\n",
       "<table border=\"1\" class=\"dataframe\">\n",
       "  <thead>\n",
       "    <tr style=\"text-align: right;\">\n",
       "      <th></th>\n",
       "      <th>address</th>\n",
       "      <th>eth_balance</th>\n",
       "    </tr>\n",
       "  </thead>\n",
       "  <tbody>\n",
       "    <tr>\n",
       "      <th>count</th>\n",
       "      <td>16000</td>\n",
       "      <td>16000</td>\n",
       "    </tr>\n",
       "    <tr>\n",
       "      <th>unique</th>\n",
       "      <td>16000</td>\n",
       "      <td>14219</td>\n",
       "    </tr>\n",
       "    <tr>\n",
       "      <th>top</th>\n",
       "      <td>0xac5c13da0b013a9d34dfcaa8d4017c645ef87bee</td>\n",
       "      <td>1000000000000000000000</td>\n",
       "    </tr>\n",
       "    <tr>\n",
       "      <th>freq</th>\n",
       "      <td>1</td>\n",
       "      <td>237</td>\n",
       "    </tr>\n",
       "  </tbody>\n",
       "</table>\n",
       "</div>"
      ],
      "text/plain": [
       "                                           address             eth_balance\n",
       "count                                        16000                   16000\n",
       "unique                                       16000                   14219\n",
       "top     0xac5c13da0b013a9d34dfcaa8d4017c645ef87bee  1000000000000000000000\n",
       "freq                                             1                     237"
      ]
     },
     "execution_count": 3,
     "metadata": {},
     "output_type": "execute_result"
    }
   ],
   "source": [
    "df.describe()"
   ]
  },
  {
   "cell_type": "markdown",
   "metadata": {},
   "source": [
    "# 💡  New knowledge:\n",
    "eth_balance is measured in `wei`, which is the ethereum's minimum measurement unit.\n",
    "Trying to use the `wei` values will cause a `64-bit overflow error`, as seen with the first row of the dataframe\n",
    "`3836061615941836500000001`\n"
   ]
  },
  {
   "cell_type": "code",
   "execution_count": 4,
   "metadata": {},
   "outputs": [
    {
     "name": "stdout",
     "output_type": "stream",
     "text": [
      "The wallet with the lowest balance has 401037450995000000000 wei\n",
      "The balances in the obtained dataset are strings, type(lb)=<class 'str'>\n"
     ]
    }
   ],
   "source": [
    "lowest_wallet = df.iloc[-1]\n",
    "#lowest balance\n",
    "lb = lowest_wallet.eth_balance\n",
    "print(f\"The wallet with the lowest balance has {lb} wei\")\n",
    "print(f\"The balances in the obtained dataset are strings, {type(lb)=}\")"
   ]
  },
  {
   "cell_type": "markdown",
   "metadata": {},
   "source": [
    "## Turning `wei` strings into `ether` ints"
   ]
  },
  {
   "cell_type": "code",
   "execution_count": 5,
   "metadata": {},
   "outputs": [],
   "source": [
    "def wei_str_to_wei_int(wei_str):\n",
    "    wei_int = int(wei_str)\n",
    "    return wei_int"
   ]
  },
  {
   "cell_type": "code",
   "execution_count": 6,
   "metadata": {},
   "outputs": [
    {
     "data": {
      "text/html": [
       "<div>\n",
       "<style scoped>\n",
       "    .dataframe tbody tr th:only-of-type {\n",
       "        vertical-align: middle;\n",
       "    }\n",
       "\n",
       "    .dataframe tbody tr th {\n",
       "        vertical-align: top;\n",
       "    }\n",
       "\n",
       "    .dataframe thead th {\n",
       "        text-align: right;\n",
       "    }\n",
       "</style>\n",
       "<table border=\"1\" class=\"dataframe\">\n",
       "  <thead>\n",
       "    <tr style=\"text-align: right;\">\n",
       "      <th></th>\n",
       "      <th>address</th>\n",
       "      <th>eth_balance</th>\n",
       "      <th>wei_int</th>\n",
       "    </tr>\n",
       "  </thead>\n",
       "  <tbody>\n",
       "    <tr>\n",
       "      <th>0</th>\n",
       "      <td>0x742d35cc6634c0532925a3b844bc454e4438f44e</td>\n",
       "      <td>3836061615941836500000001</td>\n",
       "      <td>3836061615941836500000001</td>\n",
       "    </tr>\n",
       "    <tr>\n",
       "      <th>1</th>\n",
       "      <td>0xdc76cd25977e0a5ae17155770273ad58648900d3</td>\n",
       "      <td>3125760535463887010445000</td>\n",
       "      <td>3125760535463887010445000</td>\n",
       "    </tr>\n",
       "    <tr>\n",
       "      <th>2</th>\n",
       "      <td>0xbe0eb53f46cd790cd13851d5eff43d12404d33e8</td>\n",
       "      <td>2507764425435465820651570</td>\n",
       "      <td>2507764425435465820651570</td>\n",
       "    </tr>\n",
       "    <tr>\n",
       "      <th>3</th>\n",
       "      <td>0xc02aaa39b223fe8d0a0e5c4f27ead9083c756cc2</td>\n",
       "      <td>2381646713533211711872996</td>\n",
       "      <td>2381646713533211711872996</td>\n",
       "    </tr>\n",
       "    <tr>\n",
       "      <th>4</th>\n",
       "      <td>0x53d284357ec70ce289d6d64134dfac8e511c8a3d</td>\n",
       "      <td>1378754144654898911481302</td>\n",
       "      <td>1378754144654898911481302</td>\n",
       "    </tr>\n",
       "  </tbody>\n",
       "</table>\n",
       "</div>"
      ],
      "text/plain": [
       "                                      address                eth_balance  \\\n",
       "0  0x742d35cc6634c0532925a3b844bc454e4438f44e  3836061615941836500000001   \n",
       "1  0xdc76cd25977e0a5ae17155770273ad58648900d3  3125760535463887010445000   \n",
       "2  0xbe0eb53f46cd790cd13851d5eff43d12404d33e8  2507764425435465820651570   \n",
       "3  0xc02aaa39b223fe8d0a0e5c4f27ead9083c756cc2  2381646713533211711872996   \n",
       "4  0x53d284357ec70ce289d6d64134dfac8e511c8a3d  1378754144654898911481302   \n",
       "\n",
       "                     wei_int  \n",
       "0  3836061615941836500000001  \n",
       "1  3125760535463887010445000  \n",
       "2  2507764425435465820651570  \n",
       "3  2381646713533211711872996  \n",
       "4  1378754144654898911481302  "
      ]
     },
     "execution_count": 6,
     "metadata": {},
     "output_type": "execute_result"
    }
   ],
   "source": [
    "df[\"wei_int\"] = df.eth_balance.apply(wei_str_to_wei_int)\n",
    "df.head()"
   ]
  },
  {
   "cell_type": "code",
   "execution_count": 7,
   "metadata": {
    "scrolled": true
   },
   "outputs": [
    {
     "data": {
      "text/plain": [
       "count                      16000\n",
       "unique                     14219\n",
       "top       1000000000000000000000\n",
       "freq                         237\n",
       "Name: wei_int, dtype: object"
      ]
     },
     "execution_count": 7,
     "metadata": {},
     "output_type": "execute_result"
    }
   ],
   "source": [
    "df.wei_int.describe()"
   ]
  },
  {
   "cell_type": "markdown",
   "metadata": {},
   "source": [
    "### Now that we have a column with `int` values, we can turn it into `ether`"
   ]
  },
  {
   "cell_type": "code",
   "execution_count": 8,
   "metadata": {},
   "outputs": [
    {
     "name": "stdout",
     "output_type": "stream",
     "text": [
      "max_ether_balance=Decimal('3836061.615941836500000001')\n",
      "type(max_ether_balance)=<class 'decimal.Decimal'>\n"
     ]
    }
   ],
   "source": [
    "# Can we calculate how much ether is there in the top ethereum wallet?\n",
    "highest_wallet_balance = df.wei_int.iloc[0]\n",
    "max_ether_balance = Web3.fromWei(highest_wallet_balance, 'ether')\n",
    "print(f\"{max_ether_balance=}\")\n",
    "print(f\"{type(max_ether_balance)=}\")"
   ]
  },
  {
   "cell_type": "markdown",
   "metadata": {},
   "source": [
    "# Creating an ether column"
   ]
  },
  {
   "cell_type": "code",
   "execution_count": 9,
   "metadata": {},
   "outputs": [],
   "source": [
    "wei_int_to_eth_dec = lambda wei_int : Web3.fromWei(wei_int, 'ether')\n",
    "df['ether'] = df.wei_int.apply(wei_int_to_eth_dec)"
   ]
  },
  {
   "cell_type": "markdown",
   "metadata": {},
   "source": [
    "### Plotting the column"
   ]
  },
  {
   "cell_type": "code",
   "execution_count": 10,
   "metadata": {},
   "outputs": [
    {
     "data": {
      "text/plain": [
       "0        3836061.615941836500000001\n",
       "1           3125760.535463887010445\n",
       "2         2507764.42543546582065157\n",
       "3        2381646.713533211711872996\n",
       "4        1378754.144654898911481302\n",
       "                    ...            \n",
       "15995                    401.104338\n",
       "15996                         401.1\n",
       "15997                    401.088811\n",
       "15998                 401.043968196\n",
       "15999                 401.037450995\n",
       "Name: ether, Length: 16000, dtype: object"
      ]
     },
     "execution_count": 10,
     "metadata": {},
     "output_type": "execute_result"
    }
   ],
   "source": [
    "df.ether"
   ]
  },
  {
   "cell_type": "code",
   "execution_count": 11,
   "metadata": {},
   "outputs": [
    {
     "data": {
      "text/plain": [
       "<matplotlib.axes._subplots.AxesSubplot at 0x7fbb4feaa580>"
      ]
     },
     "execution_count": 11,
     "metadata": {},
     "output_type": "execute_result"
    },
    {
     "data": {
      "image/png": "[encoded data removed]",
      "text/plain": [
       "<Figure size 1080x216 with 1 Axes>"
      ]
     },
     "metadata": {
      "needs_background": "light"
     },
     "output_type": "display_data"
    }
   ],
   "source": [
    "bins=50\n",
    "f,a = plt.subplots(figsize=(15,3))\n",
    "a.set_title(f'Distribution plot of the Top 16.000 Ethereum wallets ({bins=})')\n",
    "a.set_ylabel('Relative percentage')\n",
    "a.set_xlabel('Amount of ether in the wallet')\n",
    "sns.distplot(df.ether, ax=a, bins=bins)"
   ]
  },
  {
   "cell_type": "markdown",
   "metadata": {},
   "source": [
    "# 💡 This first plot is not very helpful, because there is a huge difference between the wallet with the highest balance and the wallets with the lowest balances\n",
    "\n",
    "To have a better insight on the data, we will try reducing the number of bins in the distribution plot, and ploting a taller graph."
   ]
  },
  {
   "cell_type": "code",
   "execution_count": 12,
   "metadata": {},
   "outputs": [
    {
     "data": {
      "text/plain": [
       "<matplotlib.axes._subplots.AxesSubplot at 0x7fbb500d4dc0>"
      ]
     },
     "execution_count": 12,
     "metadata": {},
     "output_type": "execute_result"
    },
    {
     "data": {
      "image/png": "[encoded data removed]",
      "text/plain": [
       "<Figure size 1080x576 with 1 Axes>"
      ]
     },
     "metadata": {
      "needs_background": "light"
     },
     "output_type": "display_data"
    }
   ],
   "source": [
    "bins = 10\n",
    "f,a = plt.subplots(figsize=(15,8))\n",
    "a.set_title(f'Distribution plot of the Top 16.000 Ethereum wallets ({bins=})')\n",
    "a.set_ylabel('Relative percentage')\n",
    "a.set_xlabel('Amount of ether in the wallet')\n",
    "sns.distplot(df.ether, ax=a, bins=bins)"
   ]
  },
  {
   "cell_type": "markdown",
   "metadata": {},
   "source": [
    "## That's not helping much is it? \n",
    "The distribution is very skewed to the left. And our graph cannot represent the data in a way the human eye can interpret it.\n",
    "\n",
    "\n",
    "**What if we take the lowest `15000` wallets and plot a different number of bins; Will we see a distribution that is easier to interpret?**"
   ]
  },
  {
   "cell_type": "code",
   "execution_count": 13,
   "metadata": {},
   "outputs": [
    {
     "data": {
      "text/plain": [
       "<matplotlib.axes._subplots.AxesSubplot at 0x7fbb4f89beb0>"
      ]
     },
     "execution_count": 13,
     "metadata": {},
     "output_type": "execute_result"
    },
    {
     "data": {
      "image/png": "[encoded data removed]",
      "text/plain": [
       "<Figure size 1080x576 with 1 Axes>"
      ]
     },
     "metadata": {
      "needs_background": "light"
     },
     "output_type": "display_data"
    }
   ],
   "source": [
    "bins = 50\n",
    "f,a = plt.subplots(figsize=(15,8))\n",
    "a.set_title(f'Ethereum wallets (from top Nº 16000 to top Nº 1000) ({bins=})')\n",
    "a.set_ylabel('Relative percentage')\n",
    "a.set_xlabel('Amount of ether in the wallet')\n",
    "sns.distplot(df.ether.iloc[-15000:], ax=a, bins=bins)"
   ]
  },
  {
   "cell_type": "markdown",
   "metadata": {},
   "source": [
    "### Now that is looking better :)\n",
    "This is something we can work with a little bit more.\n",
    "\n",
    "## 💡 New knowlegde acquired: \n",
    "When considering the top `16000` ethereum balances, the top `1000` wallets in hold so much `ether` when compared to the other `15000`. Although this is somewhat expected, because wealth is not equally distributed, the gap is still quite interesting to see graphically!"
   ]
  },
  {
   "cell_type": "markdown",
   "metadata": {},
   "source": [
    "###  Next steps to consider tomorrow?\n",
    "- **Option A**: Look into these top wallets, and use a scatter plot to compare their balance to their level of activity in recent days.\n",
    "- **Option B**: Dig further into other wallets with lower balances (check the next 16.000 rows in BigQuery, and add more data to this dataset.) \n",
    "\n",
    "Good night...!"
   ]
  },
  {
   "cell_type": "markdown",
   "metadata": {},
   "source": [
    "![morning](https://66.media.tumblr.com/e1f1d1ca2135011d743de541f0879db5/tumblr_p6uolv1jXa1wt4b1zo1_400.gifv)"
   ]
  },
  {
   "cell_type": "markdown",
   "metadata": {},
   "source": [
    "Aaand we're back!\n",
    "\n",
    "**A new day, a new query!**\n",
    "\n",
    "After talking with some members of dOrg, we will continue with the path mentioned in OptionA.\n",
    "\n",
    "\n",
    "\n",
    "# Option A: Include a second variable (transactions)\n",
    "The BigQuery public database also includes a table with all the previous transactions made by the different addressess.\n",
    "\n",
    "Once again, we will leverage on the power of BigQuery to obtain some material data on our top 16k addresses.\n",
    "\n",
    "\n",
    "## 💡 New knowledge: `BigQuery Pricing`\n",
    "- **When running a query, you are charged for the computing power, even if the query is stopped halfway through...**\n",
    "\n",
    "- The first 1 TB of query data processed per month is free.\n",
    "\n",
    "- Each additional 1 TB of queries costs $5 to run\n"
   ]
  },
  {
   "cell_type": "markdown",
   "metadata": {},
   "source": [
    "\n",
    "#### Here is the new experimental query, which uses an `inner join` to include the transactions these top wallets have made in the past.\n",
    "\n",
    "***As you can see in the following image, this query used up over 300GB of our free monthly quota, as this is just the first time using BigQuery for me, we should not dwell on the fact that we've used up a lot of our free monthly quota. We are learnign a lot in just a couple of hours of tinkering :')***\n",
    "\n",
    "![joining top wallets with their transactions](INPUT/BigQuery_03.png)"
   ]
  },
  {
   "cell_type": "markdown",
   "metadata": {},
   "source": [
    "#### This time, we were able to export more rows from the query, by exporting it to google drive. Now we should have 50000 rows in our new dataset\n"
   ]
  },
  {
   "cell_type": "code",
   "execution_count": 14,
   "metadata": {},
   "outputs": [
    {
     "name": "stdout",
     "output_type": "stream",
     "text": [
      "top-eth-wallets-20200604-212329.csv\r\n",
      "top-eth-wallets-transactions-20200605-135001-xw8bnmgvf5di.csv\r\n"
     ]
    }
   ],
   "source": [
    "!ls data"
   ]
  },
  {
   "cell_type": "code",
   "execution_count": 15,
   "metadata": {},
   "outputs": [
    {
     "name": "stderr",
     "output_type": "stream",
     "text": [
      "/home/rh/.local/lib/python3.8/site-packages/IPython/core/interactiveshell.py:3062: DtypeWarning: Columns (14) have mixed types.Specify dtype option on import or set low_memory=False.\n",
      "  has_raised = await self.run_ast_nodes(code_ast.body, cell_name,\n"
     ]
    }
   ],
   "source": [
    "txs = pd.read_csv('data/top-eth-wallets-transactions-20200605-135001-xw8bnmgvf5di.csv')"
   ]
  },
  {
   "cell_type": "code",
   "execution_count": 16,
   "metadata": {
    "scrolled": false
   },
   "outputs": [
    {
     "data": {
      "text/html": [
       "<div>\n",
       "<style scoped>\n",
       "    .dataframe tbody tr th:only-of-type {\n",
       "        vertical-align: middle;\n",
       "    }\n",
       "\n",
       "    .dataframe tbody tr th {\n",
       "        vertical-align: top;\n",
       "    }\n",
       "\n",
       "    .dataframe thead th {\n",
       "        text-align: right;\n",
       "    }\n",
       "</style>\n",
       "<table border=\"1\" class=\"dataframe\">\n",
       "  <thead>\n",
       "    <tr style=\"text-align: right;\">\n",
       "      <th></th>\n",
       "      <th>address</th>\n",
       "      <th>eth_balance</th>\n",
       "      <th>hash</th>\n",
       "      <th>nonce</th>\n",
       "      <th>transaction_index</th>\n",
       "      <th>from_address</th>\n",
       "      <th>to_address</th>\n",
       "      <th>value</th>\n",
       "      <th>gas</th>\n",
       "      <th>gas_price</th>\n",
       "      <th>input</th>\n",
       "      <th>receipt_cumulative_gas_used</th>\n",
       "      <th>receipt_gas_used</th>\n",
       "      <th>receipt_contract_address</th>\n",
       "      <th>receipt_root</th>\n",
       "      <th>receipt_status</th>\n",
       "      <th>block_timestamp</th>\n",
       "      <th>block_number</th>\n",
       "      <th>block_hash</th>\n",
       "    </tr>\n",
       "  </thead>\n",
       "  <tbody>\n",
       "    <tr>\n",
       "      <th>49995</th>\n",
       "      <td>0xa7efae728d2936e78bda97dc267687568dd593f3</td>\n",
       "      <td>232721710624079986020000</td>\n",
       "      <td>0x2896fdf3df8f3944cdbbe49bbcdbf2fabc8d4d73b5bc...</td>\n",
       "      <td>97835</td>\n",
       "      <td>13</td>\n",
       "      <td>0xa7efae728d2936e78bda97dc267687568dd593f3</td>\n",
       "      <td>0xabdbba4bc1b993a5ed89057d931e02c661dcfd2b</td>\n",
       "      <td>30000000000000000000</td>\n",
       "      <td>210000</td>\n",
       "      <td>50000000000</td>\n",
       "      <td>0x</td>\n",
       "      <td>637497</td>\n",
       "      <td>21000</td>\n",
       "      <td>NaN</td>\n",
       "      <td>NaN</td>\n",
       "      <td>1.0</td>\n",
       "      <td>2020-05-22 23:20:42 UTC</td>\n",
       "      <td>10118546</td>\n",
       "      <td>0xdeedec78fb76176d17c071648382aeca36e112991b76...</td>\n",
       "    </tr>\n",
       "    <tr>\n",
       "      <th>49996</th>\n",
       "      <td>0xa7efae728d2936e78bda97dc267687568dd593f3</td>\n",
       "      <td>232721710624079986020000</td>\n",
       "      <td>0x31e23a1a9eef89a4fbac6f8b8e460b2585b17dfd6816...</td>\n",
       "      <td>97791</td>\n",
       "      <td>5</td>\n",
       "      <td>0xa7efae728d2936e78bda97dc267687568dd593f3</td>\n",
       "      <td>0xe9a428cfdcf3bfefaa81f047529e4bddf058ae65</td>\n",
       "      <td>600000000000000000</td>\n",
       "      <td>210000</td>\n",
       "      <td>50000000000</td>\n",
       "      <td>0x</td>\n",
       "      <td>126000</td>\n",
       "      <td>21000</td>\n",
       "      <td>NaN</td>\n",
       "      <td>NaN</td>\n",
       "      <td>1.0</td>\n",
       "      <td>2020-05-22 16:42:40 UTC</td>\n",
       "      <td>10116751</td>\n",
       "      <td>0xe503705a80a78626e21e351389f82f190877a989d11d...</td>\n",
       "    </tr>\n",
       "    <tr>\n",
       "      <th>49997</th>\n",
       "      <td>0xa7efae728d2936e78bda97dc267687568dd593f3</td>\n",
       "      <td>232721710624079986020000</td>\n",
       "      <td>0x185fac53c4291dfcee98e44a20fdb80ab455e3151829...</td>\n",
       "      <td>97581</td>\n",
       "      <td>37</td>\n",
       "      <td>0xa7efae728d2936e78bda97dc267687568dd593f3</td>\n",
       "      <td>0x912cc72659ada24873aea208080dae7b0eb61c4f</td>\n",
       "      <td>4994000000000000000</td>\n",
       "      <td>210000</td>\n",
       "      <td>50000000000</td>\n",
       "      <td>0x</td>\n",
       "      <td>1007532</td>\n",
       "      <td>21000</td>\n",
       "      <td>NaN</td>\n",
       "      <td>NaN</td>\n",
       "      <td>1.0</td>\n",
       "      <td>2020-05-22 05:53:55 UTC</td>\n",
       "      <td>10113934</td>\n",
       "      <td>0xe51a1668893e9b6ff0cc633ba4a2f51d8df06ce407c0...</td>\n",
       "    </tr>\n",
       "    <tr>\n",
       "      <th>49998</th>\n",
       "      <td>0xa7efae728d2936e78bda97dc267687568dd593f3</td>\n",
       "      <td>232721710624079986020000</td>\n",
       "      <td>0xad6327075a952d0d0a574805c1b150de545237d292d0...</td>\n",
       "      <td>2093</td>\n",
       "      <td>52</td>\n",
       "      <td>0xa7efae728d2936e78bda97dc267687568dd593f3</td>\n",
       "      <td>0xe202fc82130fd31f5f655446b783b9a27c49b3c1</td>\n",
       "      <td>7100000000000000000</td>\n",
       "      <td>420000</td>\n",
       "      <td>35000000000</td>\n",
       "      <td>0x</td>\n",
       "      <td>1926550</td>\n",
       "      <td>21000</td>\n",
       "      <td>NaN</td>\n",
       "      <td>NaN</td>\n",
       "      <td>1.0</td>\n",
       "      <td>2019-10-16 08:03:30 UTC</td>\n",
       "      <td>8751022</td>\n",
       "      <td>0xcc67b6a63fe884bfbd6374246dd18884f2707327002d...</td>\n",
       "    </tr>\n",
       "    <tr>\n",
       "      <th>49999</th>\n",
       "      <td>0xa7efae728d2936e78bda97dc267687568dd593f3</td>\n",
       "      <td>232721710624079986020000</td>\n",
       "      <td>0xfb81dcd80f0a9136eb662ac70443a7c154f7a511060d...</td>\n",
       "      <td>97823</td>\n",
       "      <td>8</td>\n",
       "      <td>0xa7efae728d2936e78bda97dc267687568dd593f3</td>\n",
       "      <td>0x95c7887f349b897152faa4a79207b58b0c8dcaca</td>\n",
       "      <td>4490000000000000000</td>\n",
       "      <td>210000</td>\n",
       "      <td>50000000000</td>\n",
       "      <td>0x</td>\n",
       "      <td>262786</td>\n",
       "      <td>21000</td>\n",
       "      <td>NaN</td>\n",
       "      <td>NaN</td>\n",
       "      <td>1.0</td>\n",
       "      <td>2020-05-22 19:28:22 UTC</td>\n",
       "      <td>10117515</td>\n",
       "      <td>0x6885247b1fda4ed5d33d10f4c895cb66f05c6192946f...</td>\n",
       "    </tr>\n",
       "  </tbody>\n",
       "</table>\n",
       "</div>"
      ],
      "text/plain": [
       "                                          address               eth_balance  \\\n",
       "49995  0xa7efae728d2936e78bda97dc267687568dd593f3  232721710624079986020000   \n",
       "49996  0xa7efae728d2936e78bda97dc267687568dd593f3  232721710624079986020000   \n",
       "49997  0xa7efae728d2936e78bda97dc267687568dd593f3  232721710624079986020000   \n",
       "49998  0xa7efae728d2936e78bda97dc267687568dd593f3  232721710624079986020000   \n",
       "49999  0xa7efae728d2936e78bda97dc267687568dd593f3  232721710624079986020000   \n",
       "\n",
       "                                                    hash  nonce  \\\n",
       "49995  0x2896fdf3df8f3944cdbbe49bbcdbf2fabc8d4d73b5bc...  97835   \n",
       "49996  0x31e23a1a9eef89a4fbac6f8b8e460b2585b17dfd6816...  97791   \n",
       "49997  0x185fac53c4291dfcee98e44a20fdb80ab455e3151829...  97581   \n",
       "49998  0xad6327075a952d0d0a574805c1b150de545237d292d0...   2093   \n",
       "49999  0xfb81dcd80f0a9136eb662ac70443a7c154f7a511060d...  97823   \n",
       "\n",
       "       transaction_index                                from_address  \\\n",
       "49995                 13  0xa7efae728d2936e78bda97dc267687568dd593f3   \n",
       "49996                  5  0xa7efae728d2936e78bda97dc267687568dd593f3   \n",
       "49997                 37  0xa7efae728d2936e78bda97dc267687568dd593f3   \n",
       "49998                 52  0xa7efae728d2936e78bda97dc267687568dd593f3   \n",
       "49999                  8  0xa7efae728d2936e78bda97dc267687568dd593f3   \n",
       "\n",
       "                                       to_address                 value  \\\n",
       "49995  0xabdbba4bc1b993a5ed89057d931e02c661dcfd2b  30000000000000000000   \n",
       "49996  0xe9a428cfdcf3bfefaa81f047529e4bddf058ae65    600000000000000000   \n",
       "49997  0x912cc72659ada24873aea208080dae7b0eb61c4f   4994000000000000000   \n",
       "49998  0xe202fc82130fd31f5f655446b783b9a27c49b3c1   7100000000000000000   \n",
       "49999  0x95c7887f349b897152faa4a79207b58b0c8dcaca   4490000000000000000   \n",
       "\n",
       "          gas    gas_price input  receipt_cumulative_gas_used  \\\n",
       "49995  210000  50000000000    0x                       637497   \n",
       "49996  210000  50000000000    0x                       126000   \n",
       "49997  210000  50000000000    0x                      1007532   \n",
       "49998  420000  35000000000    0x                      1926550   \n",
       "49999  210000  50000000000    0x                       262786   \n",
       "\n",
       "       receipt_gas_used  receipt_contract_address receipt_root  \\\n",
       "49995             21000                       NaN          NaN   \n",
       "49996             21000                       NaN          NaN   \n",
       "49997             21000                       NaN          NaN   \n",
       "49998             21000                       NaN          NaN   \n",
       "49999             21000                       NaN          NaN   \n",
       "\n",
       "       receipt_status          block_timestamp  block_number  \\\n",
       "49995             1.0  2020-05-22 23:20:42 UTC      10118546   \n",
       "49996             1.0  2020-05-22 16:42:40 UTC      10116751   \n",
       "49997             1.0  2020-05-22 05:53:55 UTC      10113934   \n",
       "49998             1.0  2019-10-16 08:03:30 UTC       8751022   \n",
       "49999             1.0  2020-05-22 19:28:22 UTC      10117515   \n",
       "\n",
       "                                              block_hash  \n",
       "49995  0xdeedec78fb76176d17c071648382aeca36e112991b76...  \n",
       "49996  0xe503705a80a78626e21e351389f82f190877a989d11d...  \n",
       "49997  0xe51a1668893e9b6ff0cc633ba4a2f51d8df06ce407c0...  \n",
       "49998  0xcc67b6a63fe884bfbd6374246dd18884f2707327002d...  \n",
       "49999  0x6885247b1fda4ed5d33d10f4c895cb66f05c6192946f...  "
      ]
     },
     "execution_count": 16,
     "metadata": {},
     "output_type": "execute_result"
    }
   ],
   "source": [
    "# Checking the dataframe\n",
    "txs.tail()"
   ]
  },
  {
   "cell_type": "code",
   "execution_count": 17,
   "metadata": {},
   "outputs": [
    {
     "data": {
      "text/plain": [
       "Index(['address', 'eth_balance', 'hash', 'nonce', 'transaction_index',\n",
       "       'from_address', 'to_address', 'value', 'gas', 'gas_price', 'input',\n",
       "       'receipt_cumulative_gas_used', 'receipt_gas_used',\n",
       "       'receipt_contract_address', 'receipt_root', 'receipt_status',\n",
       "       'block_timestamp', 'block_number', 'block_hash'],\n",
       "      dtype='object')"
      ]
     },
     "execution_count": 17,
     "metadata": {},
     "output_type": "execute_result"
    }
   ],
   "source": [
    "# check the columns in our dataframe\n",
    "txs.columns"
   ]
  },
  {
   "cell_type": "markdown",
   "metadata": {},
   "source": [
    "## It's always a good idea to perform an initial exploration of our dataset"
   ]
  },
  {
   "cell_type": "code",
   "execution_count": 18,
   "metadata": {
    "scrolled": false
   },
   "outputs": [
    {
     "data": {
      "text/plain": [
       "array(['0x742d35cc6634c0532925a3b844bc454e4438f44e',\n",
       "       '0xdc76cd25977e0a5ae17155770273ad58648900d3',\n",
       "       '0xbe0eb53f46cd790cd13851d5eff43d12404d33e8',\n",
       "       '0x53d284357ec70ce289d6d64134dfac8e511c8a3d',\n",
       "       '0xe853c56864a2ebe4576a807d26fdc4a0ada51919',\n",
       "       '0x66f820a414680b5bcda5eeca5dea238543f42054',\n",
       "       '0x229b5c097f9b35009ca1321ad2034d4b3d5070f6',\n",
       "       '0x267f70f9b856de226fea5fc1b0a8e319c72ceff5',\n",
       "       '0x73bceb1cd57c711feac4224d062b0f6ff338501e',\n",
       "       '0xe92d1a43df510f82c66382592a047d288f85226f',\n",
       "       '0x558553d54183a8542f7832742e7b4ba9c33aa1e6',\n",
       "       '0x850c0224f37f67c471e860375ac8e39fea61e8b0',\n",
       "       '0xab5801a7d398351b8be11c439e05c5b3259aec9b',\n",
       "       '0xca8fa8f0b631ecdb18cda619c4fc9d197c8affca',\n",
       "       '0xe0f5b79ef9f748562a21d017bb7a6706954b7585',\n",
       "       '0x1e2fcfd26d36183f1a5d90f0e6296915b02bcb40',\n",
       "       '0x8103683202aa8da10536036edef04cdd865c225e',\n",
       "       '0x189b9cbd4aff470af2c0102f365fc1823d857965',\n",
       "       '0x0a4c79ce84202b03e95b7a692e5d728d83c44c76',\n",
       "       '0x7d6149ad9a573a6e2ca6ebf7d4897c1b766841b4',\n",
       "       '0x8cf23cd535a240eb0ab8667d24eedbd9eccd5cba',\n",
       "       '0xa7efae728d2936e78bda97dc267687568dd593f3'], dtype=object)"
      ]
     },
     "execution_count": 18,
     "metadata": {},
     "output_type": "execute_result"
    }
   ],
   "source": [
    "#How many addresses did we retrieve from our query?\n",
    "txs.address.unique()"
   ]
  },
  {
   "cell_type": "markdown",
   "metadata": {},
   "source": [
    "#### I should have not set the limit to 50k rows in the BigQuery SQL query above, as we can see that only a few addresses were retrieved. However, this info is enough for us to continue our exploration."
   ]
  },
  {
   "cell_type": "code",
   "execution_count": 19,
   "metadata": {},
   "outputs": [
    {
     "data": {
      "text/plain": [
       "0xa7efae728d2936e78bda97dc267687568dd593f3    47970\n",
       "0x742d35cc6634c0532925a3b844bc454e4438f44e      574\n",
       "0xbe0eb53f46cd790cd13851d5eff43d12404d33e8      405\n",
       "0x7d6149ad9a573a6e2ca6ebf7d4897c1b766841b4      394\n",
       "0x267f70f9b856de226fea5fc1b0a8e319c72ceff5      308\n",
       "0xe853c56864a2ebe4576a807d26fdc4a0ada51919       79\n",
       "0x8cf23cd535a240eb0ab8667d24eedbd9eccd5cba       66\n",
       "0x66f820a414680b5bcda5eeca5dea238543f42054       51\n",
       "0x189b9cbd4aff470af2c0102f365fc1823d857965       44\n",
       "0xdc76cd25977e0a5ae17155770273ad58648900d3       35\n",
       "0xab5801a7d398351b8be11c439e05c5b3259aec9b       28\n",
       "0x850c0224f37f67c471e860375ac8e39fea61e8b0       21\n",
       "0x73bceb1cd57c711feac4224d062b0f6ff338501e       11\n",
       "0x1e2fcfd26d36183f1a5d90f0e6296915b02bcb40        4\n",
       "0x53d284357ec70ce289d6d64134dfac8e511c8a3d        3\n",
       "0x8103683202aa8da10536036edef04cdd865c225e        1\n",
       "0x0a4c79ce84202b03e95b7a692e5d728d83c44c76        1\n",
       "0x558553d54183a8542f7832742e7b4ba9c33aa1e6        1\n",
       "0xe92d1a43df510f82c66382592a047d288f85226f        1\n",
       "0xca8fa8f0b631ecdb18cda619c4fc9d197c8affca        1\n",
       "0xe0f5b79ef9f748562a21d017bb7a6706954b7585        1\n",
       "0x229b5c097f9b35009ca1321ad2034d4b3d5070f6        1\n",
       "Name: address, dtype: int64"
      ]
     },
     "execution_count": 19,
     "metadata": {},
     "output_type": "execute_result"
    }
   ],
   "source": [
    "# Which of these accounts was the most active?\n",
    "txs.address.value_counts()"
   ]
  },
  {
   "cell_type": "markdown",
   "metadata": {},
   "source": [
    "## 💡  Top 3 most active addresses within our query `sending` ethereum: \n",
    "- [0xa7efae728d2936e78bda97dc267687568dd593f3](https://etherscan.io/address/0xa7efae728d2936e78bda97dc267687568dd593f3) with 47970 transactions\n",
    "- [0x742d35cc6634c0532925a3b844bc454e4438f44e](https://etherscan.io/address/0x742d35cc6634c0532925a3b844bc454e4438f44e) with 574 transactions\n",
    "- [0xbe0eb53f46cd790cd13851d5eff43d12404d33e8](https://etherscan.io/address/0xbe0eb53f46cd790cd13851d5eff43d12404d33e8) with 405 transactions\n",
    "\n",
    "***These seem to be famous cryptocurrency exchanges.***"
   ]
  },
  {
   "cell_type": "code",
   "execution_count": 20,
   "metadata": {},
   "outputs": [
    {
     "data": {
      "text/plain": [
       "0xce235362e7d11de16696fed6adad9137f9ad8ada    640\n",
       "0xc9149f750fa89b6f7719c961be13660eae3c0ac1    341\n",
       "0xe5782724e87bcd5a1f48737ff6cfeaf875ab5873    306\n",
       "0x5f86fe0e62d1f0226f535ebe5d98a5d3edc9a615    268\n",
       "0x2dc47474e1c643df56b03de646fd25c3334c4674    265\n",
       "                                             ... \n",
       "0x63ade3f2196c5320b4b9752f2b9af3bc48e0d8a1      1\n",
       "0x1d9afbd1840c4af0b5d433d2deaecfcadf480a99      1\n",
       "0x8c8c5872b45b13fc6f5d6ac15d4e191fb83eeeb5      1\n",
       "0x5311e3041a748da71356aa6d7da889a9586a0a42      1\n",
       "0x3d7944e169456d26278b0c47e338d95c763039e7      1\n",
       "Name: to_address, Length: 23315, dtype: int64"
      ]
     },
     "execution_count": 20,
     "metadata": {},
     "output_type": "execute_result"
    }
   ],
   "source": [
    "# Now, we wanted to see who received the most transactions\n",
    "txs.to_address.value_counts()"
   ]
  },
  {
   "cell_type": "markdown",
   "metadata": {},
   "source": [
    "**By checking the addresses that received the most transactions, we can see that the wallet was the most active with 640 recorded transactions within  our 50.000 rows**\n",
    "- [0xce235362e7d11de16696fed6adad9137f9ad8ada](https://etherscan.io/address/0xce235362e7d11de16696fed6adad9137f9ad8ada) "
   ]
  },
  {
   "cell_type": "markdown",
   "metadata": {},
   "source": [
    "# Which was the highest value transaction performed within our dataset?\n",
    "#### Remember that the values within our dataset are representeds as strings, we have to convert them to int\n",
    "\n",
    "\n",
    "***For this, we can use the function we defined yesterday in an df.column.apply, and assing the numerical value in a new column***"
   ]
  },
  {
   "cell_type": "code",
   "execution_count": 21,
   "metadata": {},
   "outputs": [
    {
     "data": {
      "text/plain": [
       "0                              0\n",
       "1                              0\n",
       "2        50000000000000000000000\n",
       "3                              0\n",
       "4        50000000000000000000000\n",
       "                  ...           \n",
       "49995       30000000000000000000\n",
       "49996         600000000000000000\n",
       "49997        4994000000000000000\n",
       "49998        7100000000000000000\n",
       "49999        4490000000000000000\n",
       "Name: value, Length: 50000, dtype: object"
      ]
     },
     "execution_count": 21,
     "metadata": {},
     "output_type": "execute_result"
    }
   ],
   "source": [
    "txs.value"
   ]
  },
  {
   "cell_type": "code",
   "execution_count": 22,
   "metadata": {
    "scrolled": true
   },
   "outputs": [
    {
     "data": {
      "text/plain": [
       "0            0\n",
       "1            0\n",
       "2        50000\n",
       "3            0\n",
       "4        50000\n",
       "         ...  \n",
       "49995       30\n",
       "49996      0.6\n",
       "49997    4.994\n",
       "49998      7.1\n",
       "49999     4.49\n",
       "Name: ether_value, Length: 50000, dtype: object"
      ]
     },
     "execution_count": 22,
     "metadata": {},
     "output_type": "execute_result"
    }
   ],
   "source": [
    "txs[\"wei_int\"] = txs.value.apply(wei_str_to_wei_int)\n",
    "txs['ether_value'] = txs.wei_int.apply(wei_int_to_eth_dec)\n",
    "txs.ether_value"
   ]
  },
  {
   "cell_type": "markdown",
   "metadata": {},
   "source": [
    "# 💡 Top 10 highest value transactions within our dataset"
   ]
  },
  {
   "cell_type": "code",
   "execution_count": 23,
   "metadata": {
    "scrolled": true
   },
   "outputs": [
    {
     "data": {
      "text/html": [
       "<div>\n",
       "<style scoped>\n",
       "    .dataframe tbody tr th:only-of-type {\n",
       "        vertical-align: middle;\n",
       "    }\n",
       "\n",
       "    .dataframe tbody tr th {\n",
       "        vertical-align: top;\n",
       "    }\n",
       "\n",
       "    .dataframe thead th {\n",
       "        text-align: right;\n",
       "    }\n",
       "</style>\n",
       "<table border=\"1\" class=\"dataframe\">\n",
       "  <thead>\n",
       "    <tr style=\"text-align: right;\">\n",
       "      <th></th>\n",
       "      <th>block_timestamp</th>\n",
       "      <th>from_address</th>\n",
       "      <th>to_address</th>\n",
       "      <th>ether_value</th>\n",
       "    </tr>\n",
       "  </thead>\n",
       "  <tbody>\n",
       "    <tr>\n",
       "      <th>1015</th>\n",
       "      <td>2016-07-20 14:42:31 UTC</td>\n",
       "      <td>0x53d284357ec70ce289d6d64134dfac8e511c8a3d</td>\n",
       "      <td>0x341e790174e3a4d35b65fdc067b6b5634a61caea</td>\n",
       "      <td>8335689</td>\n",
       "    </tr>\n",
       "    <tr>\n",
       "      <th>1065</th>\n",
       "      <td>2016-07-23 21:18:54 UTC</td>\n",
       "      <td>0xe853c56864a2ebe4576a807d26fdc4a0ada51919</td>\n",
       "      <td>0x267be1c1d684f78cb4f6a176c4911b741e4ffdc0</td>\n",
       "      <td>800000</td>\n",
       "    </tr>\n",
       "    <tr>\n",
       "      <th>1023</th>\n",
       "      <td>2017-01-20 13:47:06 UTC</td>\n",
       "      <td>0xe853c56864a2ebe4576a807d26fdc4a0ada51919</td>\n",
       "      <td>0x267be1c1d684f78cb4f6a176c4911b741e4ffdc0</td>\n",
       "      <td>600000</td>\n",
       "    </tr>\n",
       "    <tr>\n",
       "      <th>1042</th>\n",
       "      <td>2017-02-27 16:24:29 UTC</td>\n",
       "      <td>0xe853c56864a2ebe4576a807d26fdc4a0ada51919</td>\n",
       "      <td>0x267be1c1d684f78cb4f6a176c4911b741e4ffdc0</td>\n",
       "      <td>700000</td>\n",
       "    </tr>\n",
       "    <tr>\n",
       "      <th>1041</th>\n",
       "      <td>2017-03-14 20:42:40 UTC</td>\n",
       "      <td>0xe853c56864a2ebe4576a807d26fdc4a0ada51919</td>\n",
       "      <td>0x267be1c1d684f78cb4f6a176c4911b741e4ffdc0</td>\n",
       "      <td>500000</td>\n",
       "    </tr>\n",
       "    <tr>\n",
       "      <th>174</th>\n",
       "      <td>2018-07-31 18:18:48 UTC</td>\n",
       "      <td>0x742d35cc6634c0532925a3b844bc454e4438f44e</td>\n",
       "      <td>0x876eabf441b2ee5b5b0554fd502a8e0600950cfa</td>\n",
       "      <td>600000</td>\n",
       "    </tr>\n",
       "    <tr>\n",
       "      <th>32</th>\n",
       "      <td>2019-01-04 13:20:03 UTC</td>\n",
       "      <td>0x742d35cc6634c0532925a3b844bc454e4438f44e</td>\n",
       "      <td>0x876eabf441b2ee5b5b0554fd502a8e0600950cfa</td>\n",
       "      <td>500000</td>\n",
       "    </tr>\n",
       "    <tr>\n",
       "      <th>499</th>\n",
       "      <td>2019-01-05 09:13:39 UTC</td>\n",
       "      <td>0x742d35cc6634c0532925a3b844bc454e4438f44e</td>\n",
       "      <td>0x876eabf441b2ee5b5b0554fd502a8e0600950cfa</td>\n",
       "      <td>900000</td>\n",
       "    </tr>\n",
       "    <tr>\n",
       "      <th>890</th>\n",
       "      <td>2019-02-25 06:31:35 UTC</td>\n",
       "      <td>0xbe0eb53f46cd790cd13851d5eff43d12404d33e8</td>\n",
       "      <td>0x4e9ce36e442e55ecd9025b9a6e0d88485d628a67</td>\n",
       "      <td>707111.854</td>\n",
       "    </tr>\n",
       "    <tr>\n",
       "      <th>1101</th>\n",
       "      <td>2019-10-28 19:43:30 UTC</td>\n",
       "      <td>0x66f820a414680b5bcda5eeca5dea238543f42054</td>\n",
       "      <td>0xfbb1b73c4f0bda4f67dca266ce6ef42f520fbb98</td>\n",
       "      <td>695602</td>\n",
       "    </tr>\n",
       "  </tbody>\n",
       "</table>\n",
       "</div>"
      ],
      "text/plain": [
       "              block_timestamp                                from_address  \\\n",
       "1015  2016-07-20 14:42:31 UTC  0x53d284357ec70ce289d6d64134dfac8e511c8a3d   \n",
       "1065  2016-07-23 21:18:54 UTC  0xe853c56864a2ebe4576a807d26fdc4a0ada51919   \n",
       "1023  2017-01-20 13:47:06 UTC  0xe853c56864a2ebe4576a807d26fdc4a0ada51919   \n",
       "1042  2017-02-27 16:24:29 UTC  0xe853c56864a2ebe4576a807d26fdc4a0ada51919   \n",
       "1041  2017-03-14 20:42:40 UTC  0xe853c56864a2ebe4576a807d26fdc4a0ada51919   \n",
       "174   2018-07-31 18:18:48 UTC  0x742d35cc6634c0532925a3b844bc454e4438f44e   \n",
       "32    2019-01-04 13:20:03 UTC  0x742d35cc6634c0532925a3b844bc454e4438f44e   \n",
       "499   2019-01-05 09:13:39 UTC  0x742d35cc6634c0532925a3b844bc454e4438f44e   \n",
       "890   2019-02-25 06:31:35 UTC  0xbe0eb53f46cd790cd13851d5eff43d12404d33e8   \n",
       "1101  2019-10-28 19:43:30 UTC  0x66f820a414680b5bcda5eeca5dea238543f42054   \n",
       "\n",
       "                                      to_address ether_value  \n",
       "1015  0x341e790174e3a4d35b65fdc067b6b5634a61caea     8335689  \n",
       "1065  0x267be1c1d684f78cb4f6a176c4911b741e4ffdc0      800000  \n",
       "1023  0x267be1c1d684f78cb4f6a176c4911b741e4ffdc0      600000  \n",
       "1042  0x267be1c1d684f78cb4f6a176c4911b741e4ffdc0      700000  \n",
       "1041  0x267be1c1d684f78cb4f6a176c4911b741e4ffdc0      500000  \n",
       "174   0x876eabf441b2ee5b5b0554fd502a8e0600950cfa      600000  \n",
       "32    0x876eabf441b2ee5b5b0554fd502a8e0600950cfa      500000  \n",
       "499   0x876eabf441b2ee5b5b0554fd502a8e0600950cfa      900000  \n",
       "890   0x4e9ce36e442e55ecd9025b9a6e0d88485d628a67  707111.854  \n",
       "1101  0xfbb1b73c4f0bda4f67dca266ce6ef42f520fbb98      695602  "
      ]
     },
     "execution_count": 23,
     "metadata": {},
     "output_type": "execute_result"
    }
   ],
   "source": [
    "my_columns = ['block_timestamp', 'from_address', 'to_address', 'ether_value']\n",
    "top10txs = txs[my_columns].sort_values(by='ether_value', ascending=False).head(10)\n",
    "top10txs = top10txs.sort_values(by='block_timestamp')\n",
    "top10txs"
   ]
  },
  {
   "cell_type": "code",
   "execution_count": 24,
   "metadata": {
    "scrolled": true
   },
   "outputs": [
    {
     "data": {
      "text/plain": [
       "1015       8335689\n",
       "1065        800000\n",
       "1023        600000\n",
       "1042        700000\n",
       "1041        500000\n",
       "174         600000\n",
       "32          500000\n",
       "499         900000\n",
       "890     707111.854\n",
       "1101        695602\n",
       "Name: ether_value, dtype: object"
      ]
     },
     "execution_count": 24,
     "metadata": {},
     "output_type": "execute_result"
    }
   ],
   "source": [
    "top10txs.ether_value"
   ]
  },
  {
   "cell_type": "code",
   "execution_count": 25,
   "metadata": {},
   "outputs": [
    {
     "data": {
      "text/plain": [
       "1015    0x53d284357ec70ce289d6d64134dfac8e511c8a3d\n",
       "1065    0xe853c56864a2ebe4576a807d26fdc4a0ada51919\n",
       "1023    0xe853c56864a2ebe4576a807d26fdc4a0ada51919\n",
       "1042    0xe853c56864a2ebe4576a807d26fdc4a0ada51919\n",
       "1041    0xe853c56864a2ebe4576a807d26fdc4a0ada51919\n",
       "174     0x742d35cc6634c0532925a3b844bc454e4438f44e\n",
       "32      0x742d35cc6634c0532925a3b844bc454e4438f44e\n",
       "499     0x742d35cc6634c0532925a3b844bc454e4438f44e\n",
       "890     0xbe0eb53f46cd790cd13851d5eff43d12404d33e8\n",
       "1101    0x66f820a414680b5bcda5eeca5dea238543f42054\n",
       "Name: from_address, dtype: object"
      ]
     },
     "execution_count": 25,
     "metadata": {},
     "output_type": "execute_result"
    }
   ],
   "source": [
    "top10txs.from_address"
   ]
  },
  {
   "cell_type": "code",
   "execution_count": 26,
   "metadata": {},
   "outputs": [
    {
     "data": {
      "text/plain": [
       "Text(0, 0.5, 'ammount of ether being sent')"
      ]
     },
     "execution_count": 26,
     "metadata": {},
     "output_type": "execute_result"
    },
    {
     "data": {
      "image/png": "[encoded data removed]",
      "text/plain": [
       "<Figure size 1080x216 with 1 Axes>"
      ]
     },
     "metadata": {
      "needs_background": "light"
     },
     "output_type": "display_data"
    }
   ],
   "source": [
    "f,a = plt.subplots(figsize=(15,3))\n",
    "a.set_title('Comparing absolute value of the top transactions')\n",
    "a.bar(top10txs.from_address, top10txs.ether_value, width=0.3)\n",
    "#a.bar(top10txs.from_address, top10txs.ether_value, width=0.3)\n",
    "\n",
    "a.set_xticklabels(top10txs.from_address, rotation=90)\n",
    "a.set_xlabel(\"address sending the ether\")\n",
    "a.set_ylabel('ammount of ether being sent')"
   ]
  },
  {
   "cell_type": "markdown",
   "metadata": {},
   "source": [
    "## 💡 The most valuable transaction moved `8335689` ether\n",
    " ***And here's the data on that particular transaction***"
   ]
  },
  {
   "cell_type": "code",
   "execution_count": 27,
   "metadata": {},
   "outputs": [
    {
     "data": {
      "text/plain": [
       "address                               0x53d284357ec70ce289d6d64134dfac8e511c8a3d\n",
       "eth_balance                                            1378754144654898911481302\n",
       "hash                           0x1eae6cab215ee3e9194cff64b9bab47f4d0004081c6d...\n",
       "nonce                                                                          2\n",
       "transaction_index                                                              2\n",
       "from_address                          0x53d284357ec70ce289d6d64134dfac8e511c8a3d\n",
       "to_address                            0x341e790174e3a4d35b65fdc067b6b5634a61caea\n",
       "value                                                  8335689000000000000000000\n",
       "gas                                                                       100000\n",
       "gas_price                                                            24285161958\n",
       "input                          0x0f2c9329000000000000000000000000e853c56864a2...\n",
       "receipt_cumulative_gas_used                                               116835\n",
       "receipt_gas_used                                                           31567\n",
       "receipt_contract_address                                                     NaN\n",
       "receipt_root                   0x5a97fe5cb34f2c92000f1f7710a2b233fac91f4513f7...\n",
       "receipt_status                                                               NaN\n",
       "block_timestamp                                          2016-07-20 14:42:31 UTC\n",
       "block_number                                                             1920250\n",
       "block_hash                     0xe37b32ae644f5a7450af9f859b9de98f050565633ca0...\n",
       "wei_int                                                8335689000000000000000000\n",
       "ether_value                                                              8335689\n",
       "Name: 1015, dtype: object"
      ]
     },
     "execution_count": 27,
     "metadata": {},
     "output_type": "execute_result"
    }
   ],
   "source": [
    "txs.loc[1015]"
   ]
  },
  {
   "cell_type": "markdown",
   "metadata": {},
   "source": [
    "## Today, 2020-06-05, that much `ether` would represent:\n",
    "![toptransaction](INPUT/txs_exchange_01.png)\n",
    "\n"
   ]
  },
  {
   "cell_type": "code",
   "execution_count": 28,
   "metadata": {},
   "outputs": [
    {
     "name": "stdout",
     "output_type": "stream",
     "text": [
      "but back in the day it would be just: 99611483.54999999407713673349\n"
     ]
    }
   ],
   "source": [
    "print(f\"but back in the day it would be just: {txs.loc[1015].ether_value*Decimal(11.95)}\")"
   ]
  },
  {
   "cell_type": "markdown",
   "metadata": {},
   "source": [
    "## ***Nearly 100 million USD***"
   ]
  },
  {
   "cell_type": "markdown",
   "metadata": {},
   "source": [
    "Now... we'll try to see, since 2019, which of our `from_adress` has the highest number of transactions per month"
   ]
  },
  {
   "cell_type": "code",
   "execution_count": 29,
   "metadata": {},
   "outputs": [
    {
     "data": {
      "text/html": [
       "<div>\n",
       "<style scoped>\n",
       "    .dataframe tbody tr th:only-of-type {\n",
       "        vertical-align: middle;\n",
       "    }\n",
       "\n",
       "    .dataframe tbody tr th {\n",
       "        vertical-align: top;\n",
       "    }\n",
       "\n",
       "    .dataframe thead th {\n",
       "        text-align: right;\n",
       "    }\n",
       "</style>\n",
       "<table border=\"1\" class=\"dataframe\">\n",
       "  <thead>\n",
       "    <tr style=\"text-align: right;\">\n",
       "      <th></th>\n",
       "      <th>block_timestamp</th>\n",
       "      <th>from_address</th>\n",
       "      <th>to_address</th>\n",
       "      <th>ether_value</th>\n",
       "    </tr>\n",
       "  </thead>\n",
       "  <tbody>\n",
       "    <tr>\n",
       "      <th>0</th>\n",
       "      <td>2019-04-28 21:20:31 UTC</td>\n",
       "      <td>0x742d35cc6634c0532925a3b844bc454e4438f44e</td>\n",
       "      <td>0x0cf0ee63788a0849fe5297f3407f701e122cc023</td>\n",
       "      <td>0</td>\n",
       "    </tr>\n",
       "    <tr>\n",
       "      <th>1</th>\n",
       "      <td>2019-11-28 21:44:09 UTC</td>\n",
       "      <td>0x742d35cc6634c0532925a3b844bc454e4438f44e</td>\n",
       "      <td>0xdac17f958d2ee523a2206206994597c13d831ec7</td>\n",
       "      <td>0</td>\n",
       "    </tr>\n",
       "    <tr>\n",
       "      <th>2</th>\n",
       "      <td>2019-01-20 15:46:09 UTC</td>\n",
       "      <td>0x742d35cc6634c0532925a3b844bc454e4438f44e</td>\n",
       "      <td>0x876eabf441b2ee5b5b0554fd502a8e0600950cfa</td>\n",
       "      <td>50000</td>\n",
       "    </tr>\n",
       "  </tbody>\n",
       "</table>\n",
       "</div>"
      ],
      "text/plain": [
       "           block_timestamp                                from_address  \\\n",
       "0  2019-04-28 21:20:31 UTC  0x742d35cc6634c0532925a3b844bc454e4438f44e   \n",
       "1  2019-11-28 21:44:09 UTC  0x742d35cc6634c0532925a3b844bc454e4438f44e   \n",
       "2  2019-01-20 15:46:09 UTC  0x742d35cc6634c0532925a3b844bc454e4438f44e   \n",
       "\n",
       "                                   to_address ether_value  \n",
       "0  0x0cf0ee63788a0849fe5297f3407f701e122cc023           0  \n",
       "1  0xdac17f958d2ee523a2206206994597c13d831ec7           0  \n",
       "2  0x876eabf441b2ee5b5b0554fd502a8e0600950cfa       50000  "
      ]
     },
     "execution_count": 29,
     "metadata": {},
     "output_type": "execute_result"
    }
   ],
   "source": [
    "df = txs[my_columns]\n",
    "df.head(3)"
   ]
  },
  {
   "cell_type": "code",
   "execution_count": 30,
   "metadata": {},
   "outputs": [
    {
     "data": {
      "text/plain": [
       "(50000, 4)"
      ]
     },
     "execution_count": 30,
     "metadata": {},
     "output_type": "execute_result"
    }
   ],
   "source": [
    "df.shape"
   ]
  },
  {
   "cell_type": "code",
   "execution_count": 31,
   "metadata": {},
   "outputs": [],
   "source": [
    "# Make the dataframe a timeseries with a datetime index\n",
    "df.index = pd.to_datetime(df.block_timestamp)"
   ]
  },
  {
   "cell_type": "code",
   "execution_count": 32,
   "metadata": {},
   "outputs": [
    {
     "data": {
      "text/html": [
       "<div>\n",
       "<style scoped>\n",
       "    .dataframe tbody tr th:only-of-type {\n",
       "        vertical-align: middle;\n",
       "    }\n",
       "\n",
       "    .dataframe tbody tr th {\n",
       "        vertical-align: top;\n",
       "    }\n",
       "\n",
       "    .dataframe thead th {\n",
       "        text-align: right;\n",
       "    }\n",
       "</style>\n",
       "<table border=\"1\" class=\"dataframe\">\n",
       "  <thead>\n",
       "    <tr style=\"text-align: right;\">\n",
       "      <th></th>\n",
       "      <th>block_timestamp</th>\n",
       "      <th>from_address</th>\n",
       "      <th>to_address</th>\n",
       "      <th>ether_value</th>\n",
       "    </tr>\n",
       "    <tr>\n",
       "      <th>block_timestamp</th>\n",
       "      <th></th>\n",
       "      <th></th>\n",
       "      <th></th>\n",
       "      <th></th>\n",
       "    </tr>\n",
       "  </thead>\n",
       "  <tbody>\n",
       "    <tr>\n",
       "      <th>2019-04-28 21:20:31+00:00</th>\n",
       "      <td>2019-04-28 21:20:31 UTC</td>\n",
       "      <td>0x742d35cc6634c0532925a3b844bc454e4438f44e</td>\n",
       "      <td>0x0cf0ee63788a0849fe5297f3407f701e122cc023</td>\n",
       "      <td>0</td>\n",
       "    </tr>\n",
       "    <tr>\n",
       "      <th>2019-11-28 21:44:09+00:00</th>\n",
       "      <td>2019-11-28 21:44:09 UTC</td>\n",
       "      <td>0x742d35cc6634c0532925a3b844bc454e4438f44e</td>\n",
       "      <td>0xdac17f958d2ee523a2206206994597c13d831ec7</td>\n",
       "      <td>0</td>\n",
       "    </tr>\n",
       "    <tr>\n",
       "      <th>2019-01-20 15:46:09+00:00</th>\n",
       "      <td>2019-01-20 15:46:09 UTC</td>\n",
       "      <td>0x742d35cc6634c0532925a3b844bc454e4438f44e</td>\n",
       "      <td>0x876eabf441b2ee5b5b0554fd502a8e0600950cfa</td>\n",
       "      <td>50000</td>\n",
       "    </tr>\n",
       "    <tr>\n",
       "      <th>2019-08-07 19:38:04+00:00</th>\n",
       "      <td>2019-08-07 19:38:04 UTC</td>\n",
       "      <td>0x742d35cc6634c0532925a3b844bc454e4438f44e</td>\n",
       "      <td>0xe66747a101bff2dba3697199dcce5b743b454759</td>\n",
       "      <td>0</td>\n",
       "    </tr>\n",
       "    <tr>\n",
       "      <th>2019-04-13 14:18:09+00:00</th>\n",
       "      <td>2019-04-13 14:18:09 UTC</td>\n",
       "      <td>0x742d35cc6634c0532925a3b844bc454e4438f44e</td>\n",
       "      <td>0x876eabf441b2ee5b5b0554fd502a8e0600950cfa</td>\n",
       "      <td>50000</td>\n",
       "    </tr>\n",
       "    <tr>\n",
       "      <th>...</th>\n",
       "      <td>...</td>\n",
       "      <td>...</td>\n",
       "      <td>...</td>\n",
       "      <td>...</td>\n",
       "    </tr>\n",
       "    <tr>\n",
       "      <th>2020-05-22 23:20:42+00:00</th>\n",
       "      <td>2020-05-22 23:20:42 UTC</td>\n",
       "      <td>0xa7efae728d2936e78bda97dc267687568dd593f3</td>\n",
       "      <td>0xabdbba4bc1b993a5ed89057d931e02c661dcfd2b</td>\n",
       "      <td>30</td>\n",
       "    </tr>\n",
       "    <tr>\n",
       "      <th>2020-05-22 16:42:40+00:00</th>\n",
       "      <td>2020-05-22 16:42:40 UTC</td>\n",
       "      <td>0xa7efae728d2936e78bda97dc267687568dd593f3</td>\n",
       "      <td>0xe9a428cfdcf3bfefaa81f047529e4bddf058ae65</td>\n",
       "      <td>0.6</td>\n",
       "    </tr>\n",
       "    <tr>\n",
       "      <th>2020-05-22 05:53:55+00:00</th>\n",
       "      <td>2020-05-22 05:53:55 UTC</td>\n",
       "      <td>0xa7efae728d2936e78bda97dc267687568dd593f3</td>\n",
       "      <td>0x912cc72659ada24873aea208080dae7b0eb61c4f</td>\n",
       "      <td>4.994</td>\n",
       "    </tr>\n",
       "    <tr>\n",
       "      <th>2019-10-16 08:03:30+00:00</th>\n",
       "      <td>2019-10-16 08:03:30 UTC</td>\n",
       "      <td>0xa7efae728d2936e78bda97dc267687568dd593f3</td>\n",
       "      <td>0xe202fc82130fd31f5f655446b783b9a27c49b3c1</td>\n",
       "      <td>7.1</td>\n",
       "    </tr>\n",
       "    <tr>\n",
       "      <th>2020-05-22 19:28:22+00:00</th>\n",
       "      <td>2020-05-22 19:28:22 UTC</td>\n",
       "      <td>0xa7efae728d2936e78bda97dc267687568dd593f3</td>\n",
       "      <td>0x95c7887f349b897152faa4a79207b58b0c8dcaca</td>\n",
       "      <td>4.49</td>\n",
       "    </tr>\n",
       "  </tbody>\n",
       "</table>\n",
       "<p>49543 rows × 4 columns</p>\n",
       "</div>"
      ],
      "text/plain": [
       "                                   block_timestamp  \\\n",
       "block_timestamp                                      \n",
       "2019-04-28 21:20:31+00:00  2019-04-28 21:20:31 UTC   \n",
       "2019-11-28 21:44:09+00:00  2019-11-28 21:44:09 UTC   \n",
       "2019-01-20 15:46:09+00:00  2019-01-20 15:46:09 UTC   \n",
       "2019-08-07 19:38:04+00:00  2019-08-07 19:38:04 UTC   \n",
       "2019-04-13 14:18:09+00:00  2019-04-13 14:18:09 UTC   \n",
       "...                                            ...   \n",
       "2020-05-22 23:20:42+00:00  2020-05-22 23:20:42 UTC   \n",
       "2020-05-22 16:42:40+00:00  2020-05-22 16:42:40 UTC   \n",
       "2020-05-22 05:53:55+00:00  2020-05-22 05:53:55 UTC   \n",
       "2019-10-16 08:03:30+00:00  2019-10-16 08:03:30 UTC   \n",
       "2020-05-22 19:28:22+00:00  2020-05-22 19:28:22 UTC   \n",
       "\n",
       "                                                         from_address  \\\n",
       "block_timestamp                                                         \n",
       "2019-04-28 21:20:31+00:00  0x742d35cc6634c0532925a3b844bc454e4438f44e   \n",
       "2019-11-28 21:44:09+00:00  0x742d35cc6634c0532925a3b844bc454e4438f44e   \n",
       "2019-01-20 15:46:09+00:00  0x742d35cc6634c0532925a3b844bc454e4438f44e   \n",
       "2019-08-07 19:38:04+00:00  0x742d35cc6634c0532925a3b844bc454e4438f44e   \n",
       "2019-04-13 14:18:09+00:00  0x742d35cc6634c0532925a3b844bc454e4438f44e   \n",
       "...                                                               ...   \n",
       "2020-05-22 23:20:42+00:00  0xa7efae728d2936e78bda97dc267687568dd593f3   \n",
       "2020-05-22 16:42:40+00:00  0xa7efae728d2936e78bda97dc267687568dd593f3   \n",
       "2020-05-22 05:53:55+00:00  0xa7efae728d2936e78bda97dc267687568dd593f3   \n",
       "2019-10-16 08:03:30+00:00  0xa7efae728d2936e78bda97dc267687568dd593f3   \n",
       "2020-05-22 19:28:22+00:00  0xa7efae728d2936e78bda97dc267687568dd593f3   \n",
       "\n",
       "                                                           to_address  \\\n",
       "block_timestamp                                                         \n",
       "2019-04-28 21:20:31+00:00  0x0cf0ee63788a0849fe5297f3407f701e122cc023   \n",
       "2019-11-28 21:44:09+00:00  0xdac17f958d2ee523a2206206994597c13d831ec7   \n",
       "2019-01-20 15:46:09+00:00  0x876eabf441b2ee5b5b0554fd502a8e0600950cfa   \n",
       "2019-08-07 19:38:04+00:00  0xe66747a101bff2dba3697199dcce5b743b454759   \n",
       "2019-04-13 14:18:09+00:00  0x876eabf441b2ee5b5b0554fd502a8e0600950cfa   \n",
       "...                                                               ...   \n",
       "2020-05-22 23:20:42+00:00  0xabdbba4bc1b993a5ed89057d931e02c661dcfd2b   \n",
       "2020-05-22 16:42:40+00:00  0xe9a428cfdcf3bfefaa81f047529e4bddf058ae65   \n",
       "2020-05-22 05:53:55+00:00  0x912cc72659ada24873aea208080dae7b0eb61c4f   \n",
       "2019-10-16 08:03:30+00:00  0xe202fc82130fd31f5f655446b783b9a27c49b3c1   \n",
       "2020-05-22 19:28:22+00:00  0x95c7887f349b897152faa4a79207b58b0c8dcaca   \n",
       "\n",
       "                          ether_value  \n",
       "block_timestamp                        \n",
       "2019-04-28 21:20:31+00:00           0  \n",
       "2019-11-28 21:44:09+00:00           0  \n",
       "2019-01-20 15:46:09+00:00       50000  \n",
       "2019-08-07 19:38:04+00:00           0  \n",
       "2019-04-13 14:18:09+00:00       50000  \n",
       "...                               ...  \n",
       "2020-05-22 23:20:42+00:00          30  \n",
       "2020-05-22 16:42:40+00:00         0.6  \n",
       "2020-05-22 05:53:55+00:00       4.994  \n",
       "2019-10-16 08:03:30+00:00         7.1  \n",
       "2020-05-22 19:28:22+00:00        4.49  \n",
       "\n",
       "[49543 rows x 4 columns]"
      ]
     },
     "execution_count": 32,
     "metadata": {},
     "output_type": "execute_result"
    }
   ],
   "source": [
    "df=df.loc['2019':]\n",
    "df"
   ]
  },
  {
   "cell_type": "code",
   "execution_count": 33,
   "metadata": {
    "scrolled": true
   },
   "outputs": [
    {
     "name": "stdout",
     "output_type": "stream",
     "text": [
      "address='0x742d35cc6634c0532925a3b844bc454e4438f44e' total_num_of_txs=323\n",
      "address='0xdc76cd25977e0a5ae17155770273ad58648900d3' total_num_of_txs=4\n",
      "address='0xbe0eb53f46cd790cd13851d5eff43d12404d33e8' total_num_of_txs=403\n",
      "address='0x66f820a414680b5bcda5eeca5dea238543f42054' total_num_of_txs=51\n",
      "address='0x267f70f9b856de226fea5fc1b0a8e319c72ceff5' total_num_of_txs=308\n",
      "address='0x73bceb1cd57c711feac4224d062b0f6ff338501e' total_num_of_txs=11\n",
      "address='0xe92d1a43df510f82c66382592a047d288f85226f' total_num_of_txs=1\n",
      "address='0x558553d54183a8542f7832742e7b4ba9c33aa1e6' total_num_of_txs=1\n",
      "address='0x850c0224f37f67c471e860375ac8e39fea61e8b0' total_num_of_txs=1\n",
      "address='0xab5801a7d398351b8be11c439e05c5b3259aec9b' total_num_of_txs=3\n",
      "address='0xca8fa8f0b631ecdb18cda619c4fc9d197c8affca' total_num_of_txs=1\n",
      "address='0xe0f5b79ef9f748562a21d017bb7a6706954b7585' total_num_of_txs=1\n",
      "address='0x1e2fcfd26d36183f1a5d90f0e6296915b02bcb40' total_num_of_txs=4\n",
      "address='0x8103683202aa8da10536036edef04cdd865c225e' total_num_of_txs=1\n",
      "address='0x189b9cbd4aff470af2c0102f365fc1823d857965' total_num_of_txs=44\n",
      "address='0x7d6149ad9a573a6e2ca6ebf7d4897c1b766841b4' total_num_of_txs=394\n",
      "address='0x8cf23cd535a240eb0ab8667d24eedbd9eccd5cba' total_num_of_txs=22\n",
      "address='0xa7efae728d2936e78bda97dc267687568dd593f3' total_num_of_txs=47970\n"
     ]
    }
   ],
   "source": [
    "# The wallets for which we will calculate the metric, and how many txs they have performed\n",
    "wallets = df.from_address.unique()\n",
    "wallets\n",
    "\n",
    "for address in wallets:\n",
    "    total_num_of_txs = df[df.from_address == address].shape[0]\n",
    "    print(f\"{address=} {total_num_of_txs=}\")"
   ]
  },
  {
   "cell_type": "markdown",
   "metadata": {},
   "source": [
    "## Number of transactions, per wallet, by day of the week\n",
    "\n",
    "***Coordinated Universal Time (UTC)***\n",
    "\n",
    "```\n",
    " date.isoweekday()\n",
    "\n",
    "    Return the day of the week as an integer, where Monday is 1 and Sunday is 7\n",
    "```\n"
   ]
  },
  {
   "cell_type": "code",
   "execution_count": 34,
   "metadata": {
    "scrolled": false
   },
   "outputs": [
    {
     "data": {
      "image/png": "[encoded data removed]",
      "text/plain": [
       "<Figure size 1080x216 with 1 Axes>"
      ]
     },
     "metadata": {
      "needs_background": "light"
     },
     "output_type": "display_data"
    },
    {
     "data": {
      "image/png": "[encoded data removed]",
      "text/plain": [
       "<Figure size 1080x216 with 1 Axes>"
      ]
     },
     "metadata": {
      "needs_background": "light"
     },
     "output_type": "display_data"
    },
    {
     "data": {
      "image/png": "[encoded data removed]",
      "text/plain": [
       "<Figure size 1080x216 with 1 Axes>"
      ]
     },
     "metadata": {
      "needs_background": "light"
     },
     "output_type": "display_data"
    },
    {
     "data": {
      "image/png": "[encoded data removed]",
      "text/plain": [
       "<Figure size 1080x216 with 1 Axes>"
      ]
     },
     "metadata": {
      "needs_background": "light"
     },
     "output_type": "display_data"
    },
    {
     "data": {
      "image/png": "[encoded data removed]",
      "text/plain": [
       "<Figure size 1080x216 with 1 Axes>"
      ]
     },
     "metadata": {
      "needs_background": "light"
     },
     "output_type": "display_data"
    },
    {
     "data": {
      "image/png": "[encoded data removed]",
      "text/plain": [
       "<Figure size 1080x216 with 1 Axes>"
      ]
     },
     "metadata": {
      "needs_background": "light"
     },
     "output_type": "display_data"
    },
    {
     "data": {
      "image/png": "[encoded data removed]",
      "text/plain": [
       "<Figure size 1080x216 with 1 Axes>"
      ]
     },
     "metadata": {
      "needs_background": "light"
     },
     "output_type": "display_data"
    },
    {
     "data": {
      "image/png": "[encoded data removed]",
      "text/plain": [
       "<Figure size 1080x216 with 1 Axes>"
      ]
     },
     "metadata": {
      "needs_background": "light"
     },
     "output_type": "display_data"
    },
    {
     "data": {
      "image/png": "[encoded data removed]",
      "text/plain": [
       "<Figure size 1080x216 with 1 Axes>"
      ]
     },
     "metadata": {
      "needs_background": "light"
     },
     "output_type": "display_data"
    }
   ],
   "source": [
    "for address in wallets[::-1]:\n",
    "    #The wallet's transactions\n",
    "    w_txs=df[df.from_address == address]\n",
    "    \n",
    "    # Only take into account the active wallets, with more than 6 txs\n",
    "    if w_txs.shape[0]>6:\n",
    "        # Plot the most active days\n",
    "        f,a = plt.subplots(figsize=(15,3))\n",
    "        sns.distplot(w_txs.index.weekday, kde=False, bins=6, ax=a).set_title(f'Ethereum wallet {address=}')\n",
    "        a.set_xticklabels(list(calendar.day_abbr))\n",
    "        a.set_xlim((0,6))\n",
    "        a.set_xlabel('Day of the week')\n",
    "        a.set_ylabel('Number of transactions')"
   ]
  },
  {
   "cell_type": "markdown",
   "metadata": {},
   "source": [
    "And that concludes this mini-hackathon project for the dOrg member activation proposal.\n",
    "\n",
    "# Conclusions:\n",
    "\n",
    "- A copy of the ethereum blockchain can be queried for free using Google's BigQuery\n",
    "- The `web3` python library can save us time when dealing with data related to ethereum\n",
    "- Most of the accounts queried from the blockchain hold less than `2000` ether, as of June 4th 2020.\n",
    "- The most valuable transaction queried moved `8335689` ether @ 2016-07-20 14:42:31 UTC\n",
    "- The adresses moving the most ethereum are wallets owned by crypto exchanges\n",
    "- It is possible to see activity of wallets by day of the week"
   ]
  },
  {
   "cell_type": "markdown",
   "metadata": {},
   "source": [
    "## dOrg is a full-stack freelancer agency building and running on web3.\n",
    "\n",
    "Check out these links if you want to learn more:\n",
    "- [dOrg official site](https://dOrg.tech)\n",
    "- [Blockchain Based LLC](http://legal-engineering.mit.edu/bbllc)\n",
    "- [DOrg LLC Purports to be First Legally Valid DAO Under US Law](https://cointelegraph.com/news/dorg-llc-purports-to-be-first-legally-valid-dao-under-us-law)\n",
    "- [dOrg Founders Have Created the First Limited Liability DAO](https://www.coindesk.com/dorg-founders-have-created-the-first-limited-liability-dao)"
   ]
  }
 ],
 "metadata": {
  "kernelspec": {
   "display_name": "Python 3",
   "language": "python",
   "name": "python3"
  },
  "language_info": {
   "codemirror_mode": {
    "name": "ipython",
    "version": 3
   },
   "file_extension": ".py",
   "mimetype": "text/x-python",
   "name": "python",
   "nbconvert_exporter": "python",
   "pygments_lexer": "ipython3",
   "version": "3.8.3"
  }
 },
 "nbformat": 4,
 "nbformat_minor": 4
}
